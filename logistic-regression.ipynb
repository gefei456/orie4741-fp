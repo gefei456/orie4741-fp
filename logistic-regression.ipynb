{
 "cells": [
  {
   "cell_type": "code",
   "execution_count": null,
   "id": "6e504281",
   "metadata": {},
   "outputs": [],
   "source": [
    "import pandas as pd\n",
    "pd.options.mode.chained_assignment = None  # default='warn'\n",
    "import numpy as np"
   ]
  },
  {
   "cell_type": "markdown",
   "id": "a341b52b",
   "metadata": {},
   "source": [
    "## 0. DataFrame"
   ]
  },
  {
   "cell_type": "code",
   "execution_count": null,
   "id": "e9469f20",
   "metadata": {},
   "outputs": [],
   "source": [
    "football_df = pd.read_csv('all_data_with_elo.csv', low_memory = False)\n",
    "football_df"
   ]
  },
  {
   "cell_type": "markdown",
   "id": "fcbbc3ce",
   "metadata": {},
   "source": [
    "## 1. Descriptive Statistics "
   ]
  },
  {
   "cell_type": "markdown",
   "id": "d1b828a5",
   "metadata": {},
   "source": [
    "**1.1 DataFrame Shape**"
   ]
  },
  {
   "cell_type": "code",
   "execution_count": null,
   "id": "15427373",
   "metadata": {},
   "outputs": [],
   "source": [
    "# no. rows and no. cols\n",
    "football_df.shape"
   ]
  },
  {
   "cell_type": "code",
   "execution_count": null,
   "id": "7b649b14",
   "metadata": {
    "scrolled": true
   },
   "outputs": [],
   "source": [
    "# feature names\n",
    "print(football_df.columns.tolist())"
   ]
  },
  {
   "cell_type": "markdown",
   "id": "fdb560ee",
   "metadata": {},
   "source": [
    "**1.2 NaN Values**"
   ]
  },
  {
   "cell_type": "code",
   "execution_count": null,
   "id": "d3377302",
   "metadata": {
    "scrolled": false
   },
   "outputs": [],
   "source": [
    "football_df.isnull().sum()"
   ]
  },
  {
   "cell_type": "code",
   "execution_count": null,
   "id": "7eae5438",
   "metadata": {},
   "outputs": [],
   "source": [
    "# total elements in \n",
    "football_df.size"
   ]
  },
  {
   "cell_type": "code",
   "execution_count": null,
   "id": "2afbc469",
   "metadata": {
    "scrolled": true
   },
   "outputs": [],
   "source": [
    "# total number of NaN\n",
    "football_df.size - football_df.count().sum()"
   ]
  },
  {
   "cell_type": "code",
   "execution_count": null,
   "id": "a9b3446d",
   "metadata": {
    "scrolled": true
   },
   "outputs": [],
   "source": [
    "# total number of NaN rows\n",
    "football_df.isnull().any(axis = 1).sum()"
   ]
  },
  {
   "cell_type": "code",
   "execution_count": null,
   "id": "12fcf2ba",
   "metadata": {},
   "outputs": [],
   "source": [
    "# total number of NaN columns\n",
    "football_df.isnull().any(axis = 0).sum()"
   ]
  },
  {
   "cell_type": "markdown",
   "id": "da2853e2",
   "metadata": {},
   "source": [
    "## 2. Data Wrangling and Feature Transformation/Development"
   ]
  },
  {
   "cell_type": "markdown",
   "id": "4cde42d8",
   "metadata": {},
   "source": [
    "**2.1 NaN Handling**"
   ]
  },
  {
   "cell_type": "markdown",
   "id": "7a34fc35",
   "metadata": {},
   "source": [
    "`TODO`: drop NaN values along columns: {Date, Home Team, Away Team, FTR} <br>\n",
    "`TODO`: identify betting odds w/ most available data"
   ]
  },
  {
   "cell_type": "code",
   "execution_count": null,
   "id": "2da6257e",
   "metadata": {},
   "outputs": [],
   "source": [
    "nan_mask = ['Div', 'Date', 'HomeTeam', 'AwayTeam', 'FTR', 'B365H', 'B365D', 'B365A', \n",
    "            'IWH', 'IWD', 'IWA', 'WHH', 'WHD', 'WHA', 'HomeTeamELO', 'AwayTeamELO']"
   ]
  },
  {
   "cell_type": "code",
   "execution_count": null,
   "id": "1e6545f8",
   "metadata": {},
   "outputs": [],
   "source": [
    "#football_df.FTR.replace('nan', np.nan, inplace=True)\n",
    "nan_football_df = football_df.dropna(subset = nan_mask)\n",
    "nan_football_df"
   ]
  },
  {
   "cell_type": "code",
   "execution_count": null,
   "id": "48385c5c",
   "metadata": {},
   "outputs": [],
   "source": [
    "# resize shape\n",
    "football_df.shape[0] - nan_football_df.shape[0]"
   ]
  },
  {
   "cell_type": "markdown",
   "id": "42864535",
   "metadata": {},
   "source": [
    "**2.2 Feature Transformation** <br>\n",
    "* One hot encode Division, Home and Away Teams\n",
    "* Label encode Full Time Result (Win/Draw/Loss)\n",
    "* $\\phi(Date)$ $\\Rightarrow$ one column for *year*, second column for *day of year*\n",
    "* $\\phi(x)$ feature transformation $\\Rightarrow$ win/loss streak to date\n",
    "* Betting odds $\\Rightarrow$ average the home, away, and draw odds from the two odd sites"
   ]
  },
  {
   "cell_type": "code",
   "execution_count": null,
   "id": "e8ccfdd0",
   "metadata": {},
   "outputs": [],
   "source": [
    "from sklearn.preprocessing import OneHotEncoder\n",
    "from sklearn.preprocessing import LabelEncoder"
   ]
  },
  {
   "cell_type": "code",
   "execution_count": null,
   "id": "89ee5f43",
   "metadata": {},
   "outputs": [],
   "source": [
    "feats = nan_mask"
   ]
  },
  {
   "cell_type": "code",
   "execution_count": null,
   "id": "fe16f1b2",
   "metadata": {},
   "outputs": [],
   "source": [
    "learning_df = nan_football_df.copy()[feats]\n",
    "learning_df.reset_index(inplace=True, drop=True)"
   ]
  },
  {
   "cell_type": "markdown",
   "id": "15884417",
   "metadata": {},
   "source": [
    "**2.2.1 Division and Home/Away Team Encoding**"
   ]
  },
  {
   "cell_type": "code",
   "execution_count": null,
   "id": "b3e75070",
   "metadata": {},
   "outputs": [],
   "source": [
    "div_encoder = OneHotEncoder()\n",
    "home_encoder = OneHotEncoder()\n",
    "away_encoder = OneHotEncoder()"
   ]
  },
  {
   "cell_type": "code",
   "execution_count": null,
   "id": "84b8042b",
   "metadata": {},
   "outputs": [],
   "source": [
    "onehot_div = div_encoder.fit_transform(learning_df.Div.values.reshape(-1,1)).toarray().astype(int)\n",
    "onehot_div_df = pd.DataFrame(onehot_div, columns = [\"Div \"+str(int(i)) for i in range(onehot_div.shape[1])])\n",
    "\n",
    "onehot_home = home_encoder.fit_transform(learning_df.HomeTeam.values.reshape(-1,1)).toarray().astype(int)\n",
    "onehot_home_df = pd.DataFrame(onehot_home, columns = ['HomeTeam ' + str(int(i)) for i in np.arange(onehot_home.shape[1])])\n",
    "\n",
    "onehot_away = away_encoder.fit_transform(learning_df.AwayTeam.values.reshape(-1,1)).toarray().astype(int)\n",
    "onehot_away_df = pd.DataFrame(onehot_away, columns = ['AwayTeam ' + str(int(i)) for i in np.arange(onehot_away.shape[1])])"
   ]
  },
  {
   "cell_type": "code",
   "execution_count": null,
   "id": "f8444147",
   "metadata": {},
   "outputs": [],
   "source": [
    "learning_df = pd.concat([learning_df, onehot_div_df, onehot_home_df, onehot_away_df], axis = 1)\n",
    "learning_df.drop(columns = ['Div'], inplace = True)"
   ]
  },
  {
   "cell_type": "code",
   "execution_count": null,
   "id": "b9351114",
   "metadata": {},
   "outputs": [],
   "source": [
    "learning_df"
   ]
  },
  {
   "cell_type": "markdown",
   "id": "18c1cb41",
   "metadata": {},
   "source": [
    "**2.2.2 Date Transformation**"
   ]
  },
  {
   "cell_type": "code",
   "execution_count": null,
   "id": "865626e8",
   "metadata": {},
   "outputs": [],
   "source": [
    "learning_df['Year'] = pd.DatetimeIndex(learning_df.Date).year\n",
    "learning_df['DayofYear'] = pd.DatetimeIndex(learning_df.Date).dayofyear\n",
    "learning_df.drop(columns = ['Date'], inplace = True)"
   ]
  },
  {
   "cell_type": "markdown",
   "id": "1b0fefa3",
   "metadata": {},
   "source": [
    "**2.2.3 Full Time Result Encoding**"
   ]
  },
  {
   "cell_type": "code",
   "execution_count": null,
   "id": "df107de9",
   "metadata": {},
   "outputs": [],
   "source": [
    "target_encoder = LabelEncoder()\n",
    "learning_df['Result'] = target_encoder.fit_transform(learning_df.FTR) \n",
    "learning_df.drop(columns = ['FTR'], inplace = True)"
   ]
  },
  {
   "cell_type": "markdown",
   "id": "8ff554cf",
   "metadata": {},
   "source": [
    "**2.2.4 Win/Loss Streak Feature Creation** <br>\n",
    "Important note about this feature: the win/loss streak is the teams *home* and *away* win streak, *not* its ***consecutive*** win/loss streak."
   ]
  },
  {
   "cell_type": "code",
   "execution_count": null,
   "id": "41f1fcc4",
   "metadata": {},
   "outputs": [],
   "source": [
    "# https://stackoverflow.com/questions/52976336/compute-winning-streak-with-pandas\n",
    "# https://joshdevlin.com/blog/calculate-streaks-in-pandas/"
   ]
  },
  {
   "cell_type": "code",
   "execution_count": null,
   "id": "4658caa1",
   "metadata": {},
   "outputs": [],
   "source": [
    "def compute_winstreak(df):\n",
    "    \n",
    "    years = df.Year.unique()\n",
    "    df_lst = []    \n",
    "    for year in years:\n",
    "        \n",
    "        year_df = df[df.Year == year]\n",
    "        year_df['HomeWin'] = year_df.Result.replace([0, 1, 2], [0, 0, 1])\n",
    "        year_df['AwayWin'] = year_df.Result.replace([0, 1, 2], [1, 0, 0])\n",
    "        year_df['HomeWinStreak'] = None\n",
    "        year_df['AwayWinStreak'] = None\n",
    "        \n",
    "        hometeams = year_df.HomeTeam.unique()\n",
    "        awayteams = year_df.AwayTeam.unique()\n",
    "        \n",
    "        for team in hometeams:\n",
    "            team_df = year_df[(year_df.HomeTeam == team)]\n",
    "            team_df = team_df.sort_values(['Year', 'DayofYear'], ascending = (True, True))\n",
    "\n",
    "            team_grouper = (team_df.HomeWin != team_df.HomeWin.shift()).cumsum()\n",
    "            team_df['HomeWinStreak'] = team_df[['HomeWin']].groupby(team_grouper).cumsum()\n",
    "            team_df.loc[team_df.HomeWinStreak >0, 'HomeWinStreak'] -= 1\n",
    "            year_df.loc[team_df.index, 'HomeWinStreak'] = team_df.HomeWinStreak\n",
    "            \n",
    "        for team in awayteams:\n",
    "            team_df = year_df[(year_df.AwayTeam == team)]\n",
    "            team_df = team_df.sort_values(['Year', 'DayofYear'], ascending = (True, True))\n",
    "\n",
    "            team_grouper = (team_df.AwayWin != team_df.AwayWin.shift()).cumsum()\n",
    "            team_df['AwayWinStreak'] = team_df[['AwayWin']].groupby(team_grouper).cumsum()\n",
    "            team_df.loc[team_df.AwayWinStreak >0, 'AwayWinStreak'] -= 1\n",
    "            year_df.loc[team_df.index, 'AwayWinStreak'] = team_df.AwayWinStreak\n",
    "            \n",
    "        df_lst.append(year_df)\n",
    "        \n",
    "    return pd.concat(df_lst, axis = 0).drop(columns = ['HomeWin', 'AwayWin'])"
   ]
  },
  {
   "cell_type": "code",
   "execution_count": null,
   "id": "aca53647",
   "metadata": {},
   "outputs": [],
   "source": [
    "learning_df = compute_winstreak(learning_df)\n",
    "learning_df.drop(columns = ['HomeTeam', 'AwayTeam'], inplace = True)"
   ]
  },
  {
   "cell_type": "markdown",
   "id": "843342cb",
   "metadata": {},
   "source": [
    "**2.2.5 Last Match Result** <br>\n",
    "Indicate the result from the last match played between both teams"
   ]
  },
  {
   "cell_type": "code",
   "execution_count": null,
   "id": "b4c79cd7",
   "metadata": {},
   "outputs": [],
   "source": [
    "## TODO ##"
   ]
  },
  {
   "cell_type": "markdown",
   "id": "25dc6e93",
   "metadata": {},
   "source": [
    "**2.2.6 Team Wins to Date**"
   ]
  },
  {
   "cell_type": "code",
   "execution_count": null,
   "id": "7be9b147",
   "metadata": {},
   "outputs": [],
   "source": [
    "## TODO ##"
   ]
  },
  {
   "cell_type": "markdown",
   "id": "36c2496f",
   "metadata": {},
   "source": [
    "**2.2.7 Website Odds** <br>\n",
    "The `betting odds` recorded by various betting websites offer insight into sentiment surrounding the outcome of a particular game. "
   ]
  },
  {
   "cell_type": "code",
   "execution_count": null,
   "id": "1222c051",
   "metadata": {},
   "outputs": [],
   "source": [
    "## TODO ##"
   ]
  },
  {
   "cell_type": "code",
   "execution_count": null,
   "id": "67d762ea",
   "metadata": {},
   "outputs": [],
   "source": [
    "betting_feats = ['B365H', 'B365D', 'B365A', 'IWH', 'IWD', 'IWA', 'WHH', 'WHD', 'WHA']\n",
    "betting_feats"
   ]
  },
  {
   "cell_type": "code",
   "execution_count": null,
   "id": "00a3964e",
   "metadata": {},
   "outputs": [],
   "source": [
    "def compute_odds(df, betting_feats):\n",
    "    \"\"\"\n",
    "    \"\"\"\n",
    "    home_odds = []\n",
    "    away_odds = []\n",
    "    draw_odds = []\n",
    "    for odd in betting_feats:\n",
    "        odd_type = odd[-1]\n",
    "        if odd_type == 'H':\n",
    "            home_odds.append(odd)\n",
    "        elif odd_type == 'A':\n",
    "            away_odds.append(odd)\n",
    "        else:\n",
    "            draw_odds.append(odd)\n",
    "    avg_home_odds = df[home_odds].mean(axis=1)\n",
    "    avg_away_odds = df[away_odds].mean(axis=1)\n",
    "    avg_draw_odds = df[draw_odds].mean(axis=1)\n",
    "    \n",
    "    ordered_cols = ['HomeOdds', 'AwayOdds', 'DrawOdds'] + df.columns.tolist()\n",
    "    \n",
    "    df['HomeOdds'] = avg_home_odds\n",
    "    df['AwayOdds'] = avg_away_odds\n",
    "    df['DrawOdds'] = avg_draw_odds\n",
    "    \n",
    "    return df[ordered_cols]"
   ]
  },
  {
   "cell_type": "code",
   "execution_count": null,
   "id": "3152f02b",
   "metadata": {},
   "outputs": [],
   "source": [
    "learning_df = compute_odds(learning_df, betting_feats)"
   ]
  },
  {
   "cell_type": "markdown",
   "id": "20fc73c7",
   "metadata": {},
   "source": [
    "**2.2.8 Elo Difference**"
   ]
  },
  {
   "cell_type": "code",
   "execution_count": null,
   "id": "26d7a5ae",
   "metadata": {},
   "outputs": [],
   "source": [
    "# hometeamELO = learning_df.HomeTeamELO - learning_df.AwayTeamELO"
   ]
  },
  {
   "cell_type": "code",
   "execution_count": null,
   "id": "70cd553c",
   "metadata": {},
   "outputs": [],
   "source": [
    "# learning_df.drop(columns = ['HomeTeamELO', 'AwayTeamELO'], inplace = True)\n",
    "# learning_df['HomeTeamELO'] = hometeamELO"
   ]
  },
  {
   "cell_type": "markdown",
   "id": "0e4768c8",
   "metadata": {},
   "source": [
    "**2.2.8 Peek @ Learning DataFrame**"
   ]
  },
  {
   "cell_type": "code",
   "execution_count": null,
   "id": "8d4a8ba6",
   "metadata": {},
   "outputs": [],
   "source": [
    "learning_df"
   ]
  },
  {
   "cell_type": "markdown",
   "id": "7b46d936",
   "metadata": {},
   "source": [
    "## 3. Preliminary Regression"
   ]
  },
  {
   "cell_type": "markdown",
   "id": "70e10788",
   "metadata": {},
   "source": [
    "* Establish a baseline Linear Regression model fit over the entire learning dataframe without special regard to *division* and *team*. \n",
    "* Train model over 18 seasons, and predict for the remaining 3 seasons (approximate 80-20 split)"
   ]
  },
  {
   "cell_type": "code",
   "execution_count": null,
   "id": "1a103d95",
   "metadata": {},
   "outputs": [],
   "source": [
    "from sklearn.metrics import accuracy_score"
   ]
  },
  {
   "cell_type": "markdown",
   "id": "c2ddd44e",
   "metadata": {},
   "source": [
    "**3.1 Train and Test Split**"
   ]
  },
  {
   "cell_type": "code",
   "execution_count": null,
   "id": "a82f4a6b",
   "metadata": {},
   "outputs": [],
   "source": [
    "split = 0.80\n",
    "no_seasons = 20\n",
    "\n",
    "print('No. seasons to train over: ' + str(round(split*no_seasons)))"
   ]
  },
  {
   "cell_type": "code",
   "execution_count": null,
   "id": "f22ecde1",
   "metadata": {},
   "outputs": [],
   "source": [
    "X, y = learning_df.loc[:, learning_df.columns != 'Result'], learning_df[['Result']]"
   ]
  },
  {
   "cell_type": "code",
   "execution_count": null,
   "id": "3dcbc199",
   "metadata": {},
   "outputs": [],
   "source": [
    "X"
   ]
  },
  {
   "cell_type": "code",
   "execution_count": null,
   "id": "0e361977",
   "metadata": {},
   "outputs": [],
   "source": [
    "xTr, xTe = X[X.Year <= 2016], X[X.Year > 2016]\n",
    "yTr, yTe = y.loc[xTr.index, :], y.loc[xTe.index, :]"
   ]
  },
  {
   "cell_type": "markdown",
   "id": "f94c0b77",
   "metadata": {},
   "source": [
    "**3.2 Normalization** <br>\n",
    "Following our various feature transformations and development, we arrived to a sparse dataframe with the exception of a few features(*Year, DayofYear*). It will be important to *normalize* these features as they are in gross magnitudes compared to the remaining features. During model training, having dominating features (in scale relative to others) can be dangerous as the weight updates may mistakengly favor these larger-scale features because it will have the largest influence on the target output. "
   ]
  },
  {
   "cell_type": "code",
   "execution_count": null,
   "id": "a72d269a",
   "metadata": {},
   "outputs": [],
   "source": [
    "from sklearn.preprocessing import MinMaxScaler\n",
    "minmax_scaler = MinMaxScaler()\n",
    "xTr.loc[:, ['Year', 'DayofYear']] = minmax_scaler.fit_transform(xTr.loc[:, ['Year', 'DayofYear']])\n",
    "xTe.loc[:, ['Year', 'DayofYear']] = minmax_scaler.transform(xTe.loc[:, ['Year', 'DayofYear']])"
   ]
  },
  {
   "cell_type": "code",
   "execution_count": null,
   "id": "11ee9c78",
   "metadata": {},
   "outputs": [],
   "source": [
    "from sklearn.preprocessing import StandardScaler\n",
    "std_scaler = StandardScaler()\n",
    "to_scale = ['HomeTeamELO', 'AwayTeamELO', 'HomeOdds', 'AwayOdds', 'DrawOdds'] + betting_feats\n",
    "\n",
    "xTr.loc[:, to_scale] = std_scaler.fit_transform(xTr.loc[:, to_scale])\n",
    "xTe.loc[:, to_scale] = std_scaler.transform(xTe.loc[:, to_scale])"
   ]
  },
  {
   "cell_type": "code",
   "execution_count": null,
   "id": "e9113ca9",
   "metadata": {},
   "outputs": [],
   "source": [
    "xTr"
   ]
  },
  {
   "cell_type": "markdown",
   "id": "8b0abe45",
   "metadata": {},
   "source": [
    "**3.3 HomeWins Baseline Model**"
   ]
  },
  {
   "cell_type": "code",
   "execution_count": null,
   "id": "16d2cf5a",
   "metadata": {},
   "outputs": [],
   "source": [
    "baseline_preds = np.full((8628, 1), 2) #predicts home wins all the time\n",
    "accuracy_score(yTe.Result.values, baseline_preds.ravel())"
   ]
  },
  {
   "cell_type": "markdown",
   "id": "dff87ca8",
   "metadata": {},
   "source": [
    "**3.4 Multinomial Logistic Regression**"
   ]
  },
  {
   "cell_type": "markdown",
   "id": "8ee3999d",
   "metadata": {},
   "source": [
    "**3.4.1 Full Model Fit**"
   ]
  },
  {
   "cell_type": "code",
   "execution_count": null,
   "id": "6c5f52f3",
   "metadata": {
    "scrolled": true
   },
   "outputs": [],
   "source": [
    "from sklearn.linear_model import LogisticRegression\n",
    "linear_model = LogisticRegression(max_iter = 10000).fit(xTr, yTr.values.ravel())"
   ]
  },
  {
   "cell_type": "code",
   "execution_count": null,
   "id": "fccc198b",
   "metadata": {},
   "outputs": [],
   "source": [
    "lr_preds = linear_model.predict(xTe)\n",
    "accuracy_score(yTe.Result.values, lr_preds)"
   ]
  },
  {
   "cell_type": "code",
   "execution_count": null,
   "id": "54140ce0",
   "metadata": {},
   "outputs": [],
   "source": [
    "accuracy_score(yTr.Result.values, linear_model.predict(xTr))"
   ]
  },
  {
   "cell_type": "markdown",
   "id": "53e2fa7d",
   "metadata": {},
   "source": [
    "**3.4.2 Parameter Tuning**"
   ]
  },
  {
   "cell_type": "code",
   "execution_count": null,
   "id": "189ae1b8",
   "metadata": {},
   "outputs": [],
   "source": [
    "from sklearn.model_selection import RandomizedSearchCV\n",
    "\n",
    "logistic_params = {'penalty': ['l1','l2','elasticnet'],\n",
    "                   'C':[0.001,0.01,0.10,0.50,1.0]}\n",
    "\n",
    "logistic_randsearch = RandomizedSearchCV(estimator=LogisticRegression(max_iter=10000),\n",
    "                                         param_distributions=logistic_params,\n",
    "                                         scoring='accuracy',\n",
    "                                         verbose=1,\n",
    "                                         cv=5)\n",
    "\n",
    "logistic_rand_results = logistic_randsearch.fit(xTr, yTr.values.ravel())\n",
    "print(\"Best: %f using %s\" % (logistic_rand_results.best_score_, logistic_rand_results.best_params_))"
   ]
  },
  {
   "cell_type": "code",
   "execution_count": null,
   "id": "42158f18",
   "metadata": {},
   "outputs": [],
   "source": [
    "rs_preds = logistic_rand_results.best_estimator_.predict(xTe)"
   ]
  },
  {
   "cell_type": "code",
   "execution_count": null,
   "id": "3063eff7",
   "metadata": {},
   "outputs": [],
   "source": [
    "accuracy_score(yTe.Result.values, rs_preds)"
   ]
  },
  {
   "cell_type": "markdown",
   "id": "4d6b3e49",
   "metadata": {},
   "source": [
    "**3.4.3 Team Fit Model**"
   ]
  },
  {
   "cell_type": "code",
   "execution_count": null,
   "id": "f80f80c1",
   "metadata": {},
   "outputs": [],
   "source": [
    "X_barcelona = X[X['HomeTeam 18'] == 1].loc[:, 'AwayTeam 0':]\n",
    "y_barcelona = y.loc[X_barcelona.index, :]"
   ]
  },
  {
   "cell_type": "code",
   "execution_count": null,
   "id": "72edbfea",
   "metadata": {},
   "outputs": [],
   "source": [
    "bxTr, bxTe = X_barcelona[X_barcelona.Year <= 2016], X_barcelona[X_barcelona.Year > 2018]\n",
    "byTr, byTe = y_barcelona.loc[bxTr.index, :], y_barcelona.loc[bxTe.index, :]"
   ]
  },
  {
   "cell_type": "code",
   "execution_count": null,
   "id": "a705a3b2",
   "metadata": {},
   "outputs": [],
   "source": [
    "bminmax_scaler = MinMaxScaler()\n",
    "bxTr.loc[:, ['Year', 'DayofYear']] = minmax_scaler.fit_transform(bxTr.loc[:, ['Year', 'DayofYear']])\n",
    "bxTe.loc[:, ['Year', 'DayofYear']] = minmax_scaler.transform(bxTe.loc[:, ['Year', 'DayofYear']])"
   ]
  },
  {
   "cell_type": "code",
   "execution_count": null,
   "id": "9d892779",
   "metadata": {},
   "outputs": [],
   "source": [
    "barcelona_model = LogisticRegression(max_iter = 10000).fit(bxTr, byTr.values.ravel())"
   ]
  },
  {
   "cell_type": "code",
   "execution_count": null,
   "id": "33b241b0",
   "metadata": {},
   "outputs": [],
   "source": [
    "barcelona_preds = barcelona_model.predict(bxTe)\n",
    "accuracy_score(byTe.Result.values, barcelona_preds)"
   ]
  },
  {
   "cell_type": "code",
   "execution_count": null,
   "id": "57b698d0",
   "metadata": {},
   "outputs": [],
   "source": [
    "fullModel_preds = linear_model.predict(xTe[xTe['HomeTeam 18'] == 1])\n",
    "accuracy_score(byTe.Result.values, fullModel_preds)"
   ]
  },
  {
   "cell_type": "markdown",
   "id": "e1f567ac",
   "metadata": {},
   "source": [
    "**3.5 Ridge Classifier**"
   ]
  },
  {
   "cell_type": "code",
   "execution_count": null,
   "id": "742123f2",
   "metadata": {},
   "outputs": [],
   "source": [
    "from sklearn.linear_model import RidgeClassifier\n",
    "ridge_model = RidgeClassifier().fit(xTr, yTr.values.ravel())"
   ]
  },
  {
   "cell_type": "code",
   "execution_count": null,
   "id": "94e036ab",
   "metadata": {
    "scrolled": true
   },
   "outputs": [],
   "source": [
    "ridge_preds = ridge_model.predict(xTe)\n",
    "accuracy_score(yTe.Result.values, ridge_preds)"
   ]
  }
 ],
 "metadata": {
  "kernelspec": {
   "display_name": "Python 3 (ipykernel)",
   "language": "python",
   "name": "python3"
  },
  "language_info": {
   "codemirror_mode": {
    "name": "ipython",
    "version": 3
   },
   "file_extension": ".py",
   "mimetype": "text/x-python",
   "name": "python",
   "nbconvert_exporter": "python",
   "pygments_lexer": "ipython3",
   "version": "3.9.7"
  }
 },
 "nbformat": 4,
 "nbformat_minor": 5
}
