{
 "cells": [
  {
   "cell_type": "code",
   "execution_count": 1,
   "id": "6e504281",
   "metadata": {},
   "outputs": [],
   "source": [
    "import pandas as pd\n",
    "pd.options.mode.chained_assignment = None  # default='warn'\n",
    "import numpy as np"
   ]
  },
  {
   "cell_type": "markdown",
   "id": "a341b52b",
   "metadata": {},
   "source": [
    "## 0. DataFrame"
   ]
  },
  {
   "cell_type": "code",
   "execution_count": 2,
   "id": "e9469f20",
   "metadata": {},
   "outputs": [
    {
     "data": {
      "text/html": [
       "<div>\n",
       "<style scoped>\n",
       "    .dataframe tbody tr th:only-of-type {\n",
       "        vertical-align: middle;\n",
       "    }\n",
       "\n",
       "    .dataframe tbody tr th {\n",
       "        vertical-align: top;\n",
       "    }\n",
       "\n",
       "    .dataframe thead th {\n",
       "        text-align: right;\n",
       "    }\n",
       "</style>\n",
       "<table border=\"1\" class=\"dataframe\">\n",
       "  <thead>\n",
       "    <tr style=\"text-align: right;\">\n",
       "      <th></th>\n",
       "      <th>Unnamed: 0</th>\n",
       "      <th>Div</th>\n",
       "      <th>Date</th>\n",
       "      <th>HomeTeam</th>\n",
       "      <th>AwayTeam</th>\n",
       "      <th>FTHG</th>\n",
       "      <th>FTAG</th>\n",
       "      <th>FTR</th>\n",
       "      <th>HS</th>\n",
       "      <th>AS</th>\n",
       "      <th>...</th>\n",
       "      <th>B365D</th>\n",
       "      <th>B365A</th>\n",
       "      <th>IWH</th>\n",
       "      <th>IWD</th>\n",
       "      <th>IWA</th>\n",
       "      <th>WHH</th>\n",
       "      <th>WHD</th>\n",
       "      <th>WHA</th>\n",
       "      <th>HomeTeamELO</th>\n",
       "      <th>AwayTeamELO</th>\n",
       "    </tr>\n",
       "  </thead>\n",
       "  <tbody>\n",
       "    <tr>\n",
       "      <th>0</th>\n",
       "      <td>0</td>\n",
       "      <td>F1</td>\n",
       "      <td>2000-07-28</td>\n",
       "      <td>Marseille</td>\n",
       "      <td>Troyes</td>\n",
       "      <td>3.0</td>\n",
       "      <td>1.0</td>\n",
       "      <td>H</td>\n",
       "      <td>NaN</td>\n",
       "      <td>NaN</td>\n",
       "      <td>...</td>\n",
       "      <td>NaN</td>\n",
       "      <td>NaN</td>\n",
       "      <td>1.45</td>\n",
       "      <td>3.50</td>\n",
       "      <td>5.00</td>\n",
       "      <td>1.45</td>\n",
       "      <td>3.50</td>\n",
       "      <td>6.00</td>\n",
       "      <td>1690.283447</td>\n",
       "      <td>1580.911621</td>\n",
       "    </tr>\n",
       "    <tr>\n",
       "      <th>1</th>\n",
       "      <td>1</td>\n",
       "      <td>F1</td>\n",
       "      <td>2000-07-28</td>\n",
       "      <td>Paris SG</td>\n",
       "      <td>Strasbourg</td>\n",
       "      <td>3.0</td>\n",
       "      <td>1.0</td>\n",
       "      <td>H</td>\n",
       "      <td>NaN</td>\n",
       "      <td>NaN</td>\n",
       "      <td>...</td>\n",
       "      <td>NaN</td>\n",
       "      <td>NaN</td>\n",
       "      <td>1.35</td>\n",
       "      <td>3.60</td>\n",
       "      <td>6.50</td>\n",
       "      <td>1.40</td>\n",
       "      <td>3.70</td>\n",
       "      <td>6.50</td>\n",
       "      <td>1719.976318</td>\n",
       "      <td>1636.466431</td>\n",
       "    </tr>\n",
       "    <tr>\n",
       "      <th>2</th>\n",
       "      <td>2</td>\n",
       "      <td>F1</td>\n",
       "      <td>2000-07-29</td>\n",
       "      <td>Auxerre</td>\n",
       "      <td>Sedan</td>\n",
       "      <td>0.0</td>\n",
       "      <td>1.0</td>\n",
       "      <td>A</td>\n",
       "      <td>NaN</td>\n",
       "      <td>NaN</td>\n",
       "      <td>...</td>\n",
       "      <td>NaN</td>\n",
       "      <td>NaN</td>\n",
       "      <td>1.70</td>\n",
       "      <td>3.10</td>\n",
       "      <td>3.80</td>\n",
       "      <td>1.65</td>\n",
       "      <td>3.25</td>\n",
       "      <td>4.70</td>\n",
       "      <td>1635.098511</td>\n",
       "      <td>1634.386719</td>\n",
       "    </tr>\n",
       "    <tr>\n",
       "      <th>3</th>\n",
       "      <td>3</td>\n",
       "      <td>F1</td>\n",
       "      <td>2000-07-29</td>\n",
       "      <td>Bordeaux</td>\n",
       "      <td>Metz</td>\n",
       "      <td>1.0</td>\n",
       "      <td>1.0</td>\n",
       "      <td>D</td>\n",
       "      <td>NaN</td>\n",
       "      <td>NaN</td>\n",
       "      <td>...</td>\n",
       "      <td>NaN</td>\n",
       "      <td>NaN</td>\n",
       "      <td>1.55</td>\n",
       "      <td>3.30</td>\n",
       "      <td>4.50</td>\n",
       "      <td>1.50</td>\n",
       "      <td>3.40</td>\n",
       "      <td>6.00</td>\n",
       "      <td>1729.042725</td>\n",
       "      <td>1677.067505</td>\n",
       "    </tr>\n",
       "    <tr>\n",
       "      <th>4</th>\n",
       "      <td>4</td>\n",
       "      <td>F1</td>\n",
       "      <td>2000-07-29</td>\n",
       "      <td>Guingamp</td>\n",
       "      <td>St Etienne</td>\n",
       "      <td>2.0</td>\n",
       "      <td>2.0</td>\n",
       "      <td>D</td>\n",
       "      <td>NaN</td>\n",
       "      <td>NaN</td>\n",
       "      <td>...</td>\n",
       "      <td>NaN</td>\n",
       "      <td>NaN</td>\n",
       "      <td>2.20</td>\n",
       "      <td>2.80</td>\n",
       "      <td>2.80</td>\n",
       "      <td>2.40</td>\n",
       "      <td>2.90</td>\n",
       "      <td>2.75</td>\n",
       "      <td>1576.033813</td>\n",
       "      <td>1621.786011</td>\n",
       "    </tr>\n",
       "    <tr>\n",
       "      <th>...</th>\n",
       "      <td>...</td>\n",
       "      <td>...</td>\n",
       "      <td>...</td>\n",
       "      <td>...</td>\n",
       "      <td>...</td>\n",
       "      <td>...</td>\n",
       "      <td>...</td>\n",
       "      <td>...</td>\n",
       "      <td>...</td>\n",
       "      <td>...</td>\n",
       "      <td>...</td>\n",
       "      <td>...</td>\n",
       "      <td>...</td>\n",
       "      <td>...</td>\n",
       "      <td>...</td>\n",
       "      <td>...</td>\n",
       "      <td>...</td>\n",
       "      <td>...</td>\n",
       "      <td>...</td>\n",
       "      <td>...</td>\n",
       "      <td>...</td>\n",
       "    </tr>\n",
       "    <tr>\n",
       "      <th>37394</th>\n",
       "      <td>37394</td>\n",
       "      <td>SP1</td>\n",
       "      <td>2021-10-24</td>\n",
       "      <td>Sevilla</td>\n",
       "      <td>Levante</td>\n",
       "      <td>5.0</td>\n",
       "      <td>3.0</td>\n",
       "      <td>H</td>\n",
       "      <td>18.0</td>\n",
       "      <td>12.0</td>\n",
       "      <td>...</td>\n",
       "      <td>4.2</td>\n",
       "      <td>8.0</td>\n",
       "      <td>1.47</td>\n",
       "      <td>4.40</td>\n",
       "      <td>7.00</td>\n",
       "      <td>1.44</td>\n",
       "      <td>4.20</td>\n",
       "      <td>7.50</td>\n",
       "      <td>1839.052124</td>\n",
       "      <td>1629.306763</td>\n",
       "    </tr>\n",
       "    <tr>\n",
       "      <th>37395</th>\n",
       "      <td>37395</td>\n",
       "      <td>D1</td>\n",
       "      <td>2021-10-24</td>\n",
       "      <td>Stuttgart</td>\n",
       "      <td>Union Berlin</td>\n",
       "      <td>1.0</td>\n",
       "      <td>1.0</td>\n",
       "      <td>D</td>\n",
       "      <td>8.0</td>\n",
       "      <td>11.0</td>\n",
       "      <td>...</td>\n",
       "      <td>3.5</td>\n",
       "      <td>2.9</td>\n",
       "      <td>2.50</td>\n",
       "      <td>3.40</td>\n",
       "      <td>2.85</td>\n",
       "      <td>2.45</td>\n",
       "      <td>3.40</td>\n",
       "      <td>2.80</td>\n",
       "      <td>1641.394043</td>\n",
       "      <td>1690.527466</td>\n",
       "    </tr>\n",
       "    <tr>\n",
       "      <th>37396</th>\n",
       "      <td>37396</td>\n",
       "      <td>I1</td>\n",
       "      <td>2021-10-24</td>\n",
       "      <td>Verona</td>\n",
       "      <td>Lazio</td>\n",
       "      <td>4.0</td>\n",
       "      <td>1.0</td>\n",
       "      <td>H</td>\n",
       "      <td>16.0</td>\n",
       "      <td>9.0</td>\n",
       "      <td>...</td>\n",
       "      <td>3.6</td>\n",
       "      <td>2.2</td>\n",
       "      <td>3.05</td>\n",
       "      <td>3.55</td>\n",
       "      <td>2.25</td>\n",
       "      <td>3.10</td>\n",
       "      <td>3.50</td>\n",
       "      <td>2.25</td>\n",
       "      <td>1591.301147</td>\n",
       "      <td>1709.902466</td>\n",
       "    </tr>\n",
       "    <tr>\n",
       "      <th>37397</th>\n",
       "      <td>37397</td>\n",
       "      <td>E0</td>\n",
       "      <td>2021-10-24</td>\n",
       "      <td>West Ham</td>\n",
       "      <td>Tottenham</td>\n",
       "      <td>1.0</td>\n",
       "      <td>0.0</td>\n",
       "      <td>H</td>\n",
       "      <td>13.0</td>\n",
       "      <td>7.0</td>\n",
       "      <td>...</td>\n",
       "      <td>3.5</td>\n",
       "      <td>3.0</td>\n",
       "      <td>2.40</td>\n",
       "      <td>3.45</td>\n",
       "      <td>2.95</td>\n",
       "      <td>2.38</td>\n",
       "      <td>3.40</td>\n",
       "      <td>2.90</td>\n",
       "      <td>1834.961426</td>\n",
       "      <td>1804.304077</td>\n",
       "    </tr>\n",
       "    <tr>\n",
       "      <th>37398</th>\n",
       "      <td>37398</td>\n",
       "      <td>SP1</td>\n",
       "      <td>2021-10-25</td>\n",
       "      <td>Getafe</td>\n",
       "      <td>Celta</td>\n",
       "      <td>0.0</td>\n",
       "      <td>3.0</td>\n",
       "      <td>A</td>\n",
       "      <td>11.0</td>\n",
       "      <td>16.0</td>\n",
       "      <td>...</td>\n",
       "      <td>3.0</td>\n",
       "      <td>3.1</td>\n",
       "      <td>2.65</td>\n",
       "      <td>2.95</td>\n",
       "      <td>3.00</td>\n",
       "      <td>2.55</td>\n",
       "      <td>3.00</td>\n",
       "      <td>3.00</td>\n",
       "      <td>1604.867065</td>\n",
       "      <td>1698.811035</td>\n",
       "    </tr>\n",
       "  </tbody>\n",
       "</table>\n",
       "<p>37399 rows × 23 columns</p>\n",
       "</div>"
      ],
      "text/plain": [
       "       Unnamed: 0  Div        Date   HomeTeam      AwayTeam  FTHG  FTAG FTR  \\\n",
       "0               0   F1  2000-07-28  Marseille        Troyes   3.0   1.0   H   \n",
       "1               1   F1  2000-07-28   Paris SG    Strasbourg   3.0   1.0   H   \n",
       "2               2   F1  2000-07-29    Auxerre         Sedan   0.0   1.0   A   \n",
       "3               3   F1  2000-07-29   Bordeaux          Metz   1.0   1.0   D   \n",
       "4               4   F1  2000-07-29   Guingamp    St Etienne   2.0   2.0   D   \n",
       "...           ...  ...         ...        ...           ...   ...   ...  ..   \n",
       "37394       37394  SP1  2021-10-24    Sevilla       Levante   5.0   3.0   H   \n",
       "37395       37395   D1  2021-10-24  Stuttgart  Union Berlin   1.0   1.0   D   \n",
       "37396       37396   I1  2021-10-24     Verona         Lazio   4.0   1.0   H   \n",
       "37397       37397   E0  2021-10-24   West Ham     Tottenham   1.0   0.0   H   \n",
       "37398       37398  SP1  2021-10-25     Getafe         Celta   0.0   3.0   A   \n",
       "\n",
       "         HS    AS  ...  B365D  B365A   IWH   IWD   IWA   WHH   WHD   WHA  \\\n",
       "0       NaN   NaN  ...    NaN    NaN  1.45  3.50  5.00  1.45  3.50  6.00   \n",
       "1       NaN   NaN  ...    NaN    NaN  1.35  3.60  6.50  1.40  3.70  6.50   \n",
       "2       NaN   NaN  ...    NaN    NaN  1.70  3.10  3.80  1.65  3.25  4.70   \n",
       "3       NaN   NaN  ...    NaN    NaN  1.55  3.30  4.50  1.50  3.40  6.00   \n",
       "4       NaN   NaN  ...    NaN    NaN  2.20  2.80  2.80  2.40  2.90  2.75   \n",
       "...     ...   ...  ...    ...    ...   ...   ...   ...   ...   ...   ...   \n",
       "37394  18.0  12.0  ...    4.2    8.0  1.47  4.40  7.00  1.44  4.20  7.50   \n",
       "37395   8.0  11.0  ...    3.5    2.9  2.50  3.40  2.85  2.45  3.40  2.80   \n",
       "37396  16.0   9.0  ...    3.6    2.2  3.05  3.55  2.25  3.10  3.50  2.25   \n",
       "37397  13.0   7.0  ...    3.5    3.0  2.40  3.45  2.95  2.38  3.40  2.90   \n",
       "37398  11.0  16.0  ...    3.0    3.1  2.65  2.95  3.00  2.55  3.00  3.00   \n",
       "\n",
       "       HomeTeamELO  AwayTeamELO  \n",
       "0      1690.283447  1580.911621  \n",
       "1      1719.976318  1636.466431  \n",
       "2      1635.098511  1634.386719  \n",
       "3      1729.042725  1677.067505  \n",
       "4      1576.033813  1621.786011  \n",
       "...            ...          ...  \n",
       "37394  1839.052124  1629.306763  \n",
       "37395  1641.394043  1690.527466  \n",
       "37396  1591.301147  1709.902466  \n",
       "37397  1834.961426  1804.304077  \n",
       "37398  1604.867065  1698.811035  \n",
       "\n",
       "[37399 rows x 23 columns]"
      ]
     },
     "execution_count": 2,
     "metadata": {},
     "output_type": "execute_result"
    }
   ],
   "source": [
    "football_df = pd.read_csv('all_data_with_elo.csv', low_memory = False)\n",
    "football_df"
   ]
  },
  {
   "cell_type": "markdown",
   "id": "fcbbc3ce",
   "metadata": {},
   "source": [
    "## 1. Descriptive Statistics "
   ]
  },
  {
   "cell_type": "markdown",
   "id": "d1b828a5",
   "metadata": {},
   "source": [
    "**1.1 DataFrame Shape**"
   ]
  },
  {
   "cell_type": "code",
   "execution_count": 3,
   "id": "15427373",
   "metadata": {},
   "outputs": [
    {
     "data": {
      "text/plain": [
       "(37399, 23)"
      ]
     },
     "execution_count": 3,
     "metadata": {},
     "output_type": "execute_result"
    }
   ],
   "source": [
    "# no. rows and no. cols\n",
    "football_df.shape"
   ]
  },
  {
   "cell_type": "code",
   "execution_count": 4,
   "id": "7b649b14",
   "metadata": {
    "scrolled": true
   },
   "outputs": [
    {
     "name": "stdout",
     "output_type": "stream",
     "text": [
      "['Unnamed: 0', 'Div', 'Date', 'HomeTeam', 'AwayTeam', 'FTHG', 'FTAG', 'FTR', 'HS', 'AS', 'HST', 'AST', 'B365H', 'B365D', 'B365A', 'IWH', 'IWD', 'IWA', 'WHH', 'WHD', 'WHA', 'HomeTeamELO', 'AwayTeamELO']\n"
     ]
    }
   ],
   "source": [
    "# feature names\n",
    "print(football_df.columns.tolist())"
   ]
  },
  {
   "cell_type": "markdown",
   "id": "fdb560ee",
   "metadata": {},
   "source": [
    "**1.2 NaN Values**"
   ]
  },
  {
   "cell_type": "code",
   "execution_count": 5,
   "id": "d3377302",
   "metadata": {
    "scrolled": false
   },
   "outputs": [
    {
     "data": {
      "text/plain": [
       "Unnamed: 0        0\n",
       "Div               0\n",
       "Date              0\n",
       "HomeTeam          0\n",
       "AwayTeam          0\n",
       "FTHG              0\n",
       "FTAG              0\n",
       "FTR               0\n",
       "HS             4913\n",
       "AS             4913\n",
       "HST            5719\n",
       "AST            5719\n",
       "B365H          3412\n",
       "B365D          3412\n",
       "B365A          3412\n",
       "IWH             165\n",
       "IWD             165\n",
       "IWA             165\n",
       "WHH             736\n",
       "WHD             736\n",
       "WHA             736\n",
       "HomeTeamELO     303\n",
       "AwayTeamELO     306\n",
       "dtype: int64"
      ]
     },
     "execution_count": 5,
     "metadata": {},
     "output_type": "execute_result"
    }
   ],
   "source": [
    "football_df.isnull().sum()"
   ]
  },
  {
   "cell_type": "code",
   "execution_count": 6,
   "id": "7eae5438",
   "metadata": {},
   "outputs": [
    {
     "data": {
      "text/plain": [
       "860177"
      ]
     },
     "execution_count": 6,
     "metadata": {},
     "output_type": "execute_result"
    }
   ],
   "source": [
    "# total elements in \n",
    "football_df.size"
   ]
  },
  {
   "cell_type": "code",
   "execution_count": 7,
   "id": "2afbc469",
   "metadata": {
    "scrolled": true
   },
   "outputs": [
    {
     "data": {
      "text/plain": [
       "34812"
      ]
     },
     "execution_count": 7,
     "metadata": {},
     "output_type": "execute_result"
    }
   ],
   "source": [
    "# total number of NaN\n",
    "football_df.size - football_df.count().sum()"
   ]
  },
  {
   "cell_type": "code",
   "execution_count": 8,
   "id": "a9b3446d",
   "metadata": {
    "scrolled": true
   },
   "outputs": [
    {
     "data": {
      "text/plain": [
       "7994"
      ]
     },
     "execution_count": 8,
     "metadata": {},
     "output_type": "execute_result"
    }
   ],
   "source": [
    "# total number of NaN rows\n",
    "football_df.isnull().any(axis = 1).sum()"
   ]
  },
  {
   "cell_type": "code",
   "execution_count": 9,
   "id": "12fcf2ba",
   "metadata": {},
   "outputs": [
    {
     "data": {
      "text/plain": [
       "15"
      ]
     },
     "execution_count": 9,
     "metadata": {},
     "output_type": "execute_result"
    }
   ],
   "source": [
    "# total number of NaN columns\n",
    "football_df.isnull().any(axis = 0).sum()"
   ]
  },
  {
   "cell_type": "markdown",
   "id": "da2853e2",
   "metadata": {},
   "source": [
    "## 2. Data Wrangling and Feature Transformation/Development"
   ]
  },
  {
   "cell_type": "markdown",
   "id": "4cde42d8",
   "metadata": {},
   "source": [
    "**2.1 NaN Handling**"
   ]
  },
  {
   "cell_type": "markdown",
   "id": "7a34fc35",
   "metadata": {},
   "source": [
    "`TODO`: drop NaN values along columns: {Date, Home Team, Away Team, FTR} <br>\n",
    "`TODO`: identify betting odds w/ most available data"
   ]
  },
  {
   "cell_type": "code",
   "execution_count": 19,
   "id": "773a8695",
   "metadata": {},
   "outputs": [],
   "source": [
    "nan_mask = ['Div', 'Date', 'HomeTeam', 'AwayTeam', 'FTR', 'B365H', 'B365D', 'B365A', 'IWH', 'IWD', 'IWA', 'WHH', 'WHD', 'WHA']"
   ]
  },
  {
   "cell_type": "code",
   "execution_count": 20,
   "id": "1e6545f8",
   "metadata": {},
   "outputs": [
    {
     "data": {
      "text/html": [
       "<div>\n",
       "<style scoped>\n",
       "    .dataframe tbody tr th:only-of-type {\n",
       "        vertical-align: middle;\n",
       "    }\n",
       "\n",
       "    .dataframe tbody tr th {\n",
       "        vertical-align: top;\n",
       "    }\n",
       "\n",
       "    .dataframe thead th {\n",
       "        text-align: right;\n",
       "    }\n",
       "</style>\n",
       "<table border=\"1\" class=\"dataframe\">\n",
       "  <thead>\n",
       "    <tr style=\"text-align: right;\">\n",
       "      <th></th>\n",
       "      <th>Unnamed: 0</th>\n",
       "      <th>Div</th>\n",
       "      <th>Date</th>\n",
       "      <th>HomeTeam</th>\n",
       "      <th>AwayTeam</th>\n",
       "      <th>FTHG</th>\n",
       "      <th>FTAG</th>\n",
       "      <th>FTR</th>\n",
       "      <th>HS</th>\n",
       "      <th>AS</th>\n",
       "      <th>...</th>\n",
       "      <th>B365D</th>\n",
       "      <th>B365A</th>\n",
       "      <th>IWH</th>\n",
       "      <th>IWD</th>\n",
       "      <th>IWA</th>\n",
       "      <th>WHH</th>\n",
       "      <th>WHD</th>\n",
       "      <th>WHA</th>\n",
       "      <th>HomeTeamELO</th>\n",
       "      <th>AwayTeamELO</th>\n",
       "    </tr>\n",
       "  </thead>\n",
       "  <tbody>\n",
       "    <tr>\n",
       "      <th>3357</th>\n",
       "      <td>3357</td>\n",
       "      <td>F1</td>\n",
       "      <td>2002-08-03</td>\n",
       "      <td>Bastia</td>\n",
       "      <td>Lens</td>\n",
       "      <td>1.0</td>\n",
       "      <td>1.0</td>\n",
       "      <td>D</td>\n",
       "      <td>NaN</td>\n",
       "      <td>NaN</td>\n",
       "      <td>...</td>\n",
       "      <td>2.875</td>\n",
       "      <td>2.625</td>\n",
       "      <td>2.60</td>\n",
       "      <td>2.80</td>\n",
       "      <td>2.60</td>\n",
       "      <td>2.50</td>\n",
       "      <td>3.1</td>\n",
       "      <td>2.50</td>\n",
       "      <td>1638.443726</td>\n",
       "      <td>1721.884644</td>\n",
       "    </tr>\n",
       "    <tr>\n",
       "      <th>3358</th>\n",
       "      <td>3358</td>\n",
       "      <td>F1</td>\n",
       "      <td>2002-08-03</td>\n",
       "      <td>Lille</td>\n",
       "      <td>Bordeaux</td>\n",
       "      <td>0.0</td>\n",
       "      <td>3.0</td>\n",
       "      <td>A</td>\n",
       "      <td>NaN</td>\n",
       "      <td>NaN</td>\n",
       "      <td>...</td>\n",
       "      <td>3.000</td>\n",
       "      <td>3.200</td>\n",
       "      <td>2.20</td>\n",
       "      <td>2.80</td>\n",
       "      <td>3.10</td>\n",
       "      <td>2.20</td>\n",
       "      <td>3.1</td>\n",
       "      <td>2.87</td>\n",
       "      <td>1697.769775</td>\n",
       "      <td>1706.673584</td>\n",
       "    </tr>\n",
       "    <tr>\n",
       "      <th>3359</th>\n",
       "      <td>3359</td>\n",
       "      <td>F1</td>\n",
       "      <td>2002-08-03</td>\n",
       "      <td>Marseille</td>\n",
       "      <td>Nantes</td>\n",
       "      <td>0.0</td>\n",
       "      <td>2.0</td>\n",
       "      <td>A</td>\n",
       "      <td>NaN</td>\n",
       "      <td>NaN</td>\n",
       "      <td>...</td>\n",
       "      <td>3.000</td>\n",
       "      <td>2.875</td>\n",
       "      <td>2.20</td>\n",
       "      <td>2.90</td>\n",
       "      <td>3.00</td>\n",
       "      <td>2.20</td>\n",
       "      <td>3.0</td>\n",
       "      <td>3.00</td>\n",
       "      <td>1635.754883</td>\n",
       "      <td>1707.416260</td>\n",
       "    </tr>\n",
       "    <tr>\n",
       "      <th>3360</th>\n",
       "      <td>3360</td>\n",
       "      <td>F1</td>\n",
       "      <td>2002-08-03</td>\n",
       "      <td>Montpellier</td>\n",
       "      <td>Rennes</td>\n",
       "      <td>1.0</td>\n",
       "      <td>0.0</td>\n",
       "      <td>H</td>\n",
       "      <td>NaN</td>\n",
       "      <td>NaN</td>\n",
       "      <td>...</td>\n",
       "      <td>3.000</td>\n",
       "      <td>4.000</td>\n",
       "      <td>1.90</td>\n",
       "      <td>2.90</td>\n",
       "      <td>3.80</td>\n",
       "      <td>1.90</td>\n",
       "      <td>3.1</td>\n",
       "      <td>3.60</td>\n",
       "      <td>1625.260742</td>\n",
       "      <td>1637.619751</td>\n",
       "    </tr>\n",
       "    <tr>\n",
       "      <th>3361</th>\n",
       "      <td>3361</td>\n",
       "      <td>F1</td>\n",
       "      <td>2002-08-03</td>\n",
       "      <td>Nice</td>\n",
       "      <td>Le Havre</td>\n",
       "      <td>1.0</td>\n",
       "      <td>2.0</td>\n",
       "      <td>A</td>\n",
       "      <td>NaN</td>\n",
       "      <td>NaN</td>\n",
       "      <td>...</td>\n",
       "      <td>3.000</td>\n",
       "      <td>3.750</td>\n",
       "      <td>2.00</td>\n",
       "      <td>2.90</td>\n",
       "      <td>3.40</td>\n",
       "      <td>1.83</td>\n",
       "      <td>3.2</td>\n",
       "      <td>3.75</td>\n",
       "      <td>1528.176514</td>\n",
       "      <td>1570.564941</td>\n",
       "    </tr>\n",
       "    <tr>\n",
       "      <th>...</th>\n",
       "      <td>...</td>\n",
       "      <td>...</td>\n",
       "      <td>...</td>\n",
       "      <td>...</td>\n",
       "      <td>...</td>\n",
       "      <td>...</td>\n",
       "      <td>...</td>\n",
       "      <td>...</td>\n",
       "      <td>...</td>\n",
       "      <td>...</td>\n",
       "      <td>...</td>\n",
       "      <td>...</td>\n",
       "      <td>...</td>\n",
       "      <td>...</td>\n",
       "      <td>...</td>\n",
       "      <td>...</td>\n",
       "      <td>...</td>\n",
       "      <td>...</td>\n",
       "      <td>...</td>\n",
       "      <td>...</td>\n",
       "      <td>...</td>\n",
       "    </tr>\n",
       "    <tr>\n",
       "      <th>37394</th>\n",
       "      <td>37394</td>\n",
       "      <td>SP1</td>\n",
       "      <td>2021-10-24</td>\n",
       "      <td>Sevilla</td>\n",
       "      <td>Levante</td>\n",
       "      <td>5.0</td>\n",
       "      <td>3.0</td>\n",
       "      <td>H</td>\n",
       "      <td>18.0</td>\n",
       "      <td>12.0</td>\n",
       "      <td>...</td>\n",
       "      <td>4.200</td>\n",
       "      <td>8.000</td>\n",
       "      <td>1.47</td>\n",
       "      <td>4.40</td>\n",
       "      <td>7.00</td>\n",
       "      <td>1.44</td>\n",
       "      <td>4.2</td>\n",
       "      <td>7.50</td>\n",
       "      <td>1839.052124</td>\n",
       "      <td>1629.306763</td>\n",
       "    </tr>\n",
       "    <tr>\n",
       "      <th>37395</th>\n",
       "      <td>37395</td>\n",
       "      <td>D1</td>\n",
       "      <td>2021-10-24</td>\n",
       "      <td>Stuttgart</td>\n",
       "      <td>Union Berlin</td>\n",
       "      <td>1.0</td>\n",
       "      <td>1.0</td>\n",
       "      <td>D</td>\n",
       "      <td>8.0</td>\n",
       "      <td>11.0</td>\n",
       "      <td>...</td>\n",
       "      <td>3.500</td>\n",
       "      <td>2.900</td>\n",
       "      <td>2.50</td>\n",
       "      <td>3.40</td>\n",
       "      <td>2.85</td>\n",
       "      <td>2.45</td>\n",
       "      <td>3.4</td>\n",
       "      <td>2.80</td>\n",
       "      <td>1641.394043</td>\n",
       "      <td>1690.527466</td>\n",
       "    </tr>\n",
       "    <tr>\n",
       "      <th>37396</th>\n",
       "      <td>37396</td>\n",
       "      <td>I1</td>\n",
       "      <td>2021-10-24</td>\n",
       "      <td>Verona</td>\n",
       "      <td>Lazio</td>\n",
       "      <td>4.0</td>\n",
       "      <td>1.0</td>\n",
       "      <td>H</td>\n",
       "      <td>16.0</td>\n",
       "      <td>9.0</td>\n",
       "      <td>...</td>\n",
       "      <td>3.600</td>\n",
       "      <td>2.200</td>\n",
       "      <td>3.05</td>\n",
       "      <td>3.55</td>\n",
       "      <td>2.25</td>\n",
       "      <td>3.10</td>\n",
       "      <td>3.5</td>\n",
       "      <td>2.25</td>\n",
       "      <td>1591.301147</td>\n",
       "      <td>1709.902466</td>\n",
       "    </tr>\n",
       "    <tr>\n",
       "      <th>37397</th>\n",
       "      <td>37397</td>\n",
       "      <td>E0</td>\n",
       "      <td>2021-10-24</td>\n",
       "      <td>West Ham</td>\n",
       "      <td>Tottenham</td>\n",
       "      <td>1.0</td>\n",
       "      <td>0.0</td>\n",
       "      <td>H</td>\n",
       "      <td>13.0</td>\n",
       "      <td>7.0</td>\n",
       "      <td>...</td>\n",
       "      <td>3.500</td>\n",
       "      <td>3.000</td>\n",
       "      <td>2.40</td>\n",
       "      <td>3.45</td>\n",
       "      <td>2.95</td>\n",
       "      <td>2.38</td>\n",
       "      <td>3.4</td>\n",
       "      <td>2.90</td>\n",
       "      <td>1834.961426</td>\n",
       "      <td>1804.304077</td>\n",
       "    </tr>\n",
       "    <tr>\n",
       "      <th>37398</th>\n",
       "      <td>37398</td>\n",
       "      <td>SP1</td>\n",
       "      <td>2021-10-25</td>\n",
       "      <td>Getafe</td>\n",
       "      <td>Celta</td>\n",
       "      <td>0.0</td>\n",
       "      <td>3.0</td>\n",
       "      <td>A</td>\n",
       "      <td>11.0</td>\n",
       "      <td>16.0</td>\n",
       "      <td>...</td>\n",
       "      <td>3.000</td>\n",
       "      <td>3.100</td>\n",
       "      <td>2.65</td>\n",
       "      <td>2.95</td>\n",
       "      <td>3.00</td>\n",
       "      <td>2.55</td>\n",
       "      <td>3.0</td>\n",
       "      <td>3.00</td>\n",
       "      <td>1604.867065</td>\n",
       "      <td>1698.811035</td>\n",
       "    </tr>\n",
       "  </tbody>\n",
       "</table>\n",
       "<p>33330 rows × 23 columns</p>\n",
       "</div>"
      ],
      "text/plain": [
       "       Unnamed: 0  Div        Date     HomeTeam      AwayTeam  FTHG  FTAG FTR  \\\n",
       "3357         3357   F1  2002-08-03       Bastia          Lens   1.0   1.0   D   \n",
       "3358         3358   F1  2002-08-03        Lille      Bordeaux   0.0   3.0   A   \n",
       "3359         3359   F1  2002-08-03    Marseille        Nantes   0.0   2.0   A   \n",
       "3360         3360   F1  2002-08-03  Montpellier        Rennes   1.0   0.0   H   \n",
       "3361         3361   F1  2002-08-03         Nice      Le Havre   1.0   2.0   A   \n",
       "...           ...  ...         ...          ...           ...   ...   ...  ..   \n",
       "37394       37394  SP1  2021-10-24      Sevilla       Levante   5.0   3.0   H   \n",
       "37395       37395   D1  2021-10-24    Stuttgart  Union Berlin   1.0   1.0   D   \n",
       "37396       37396   I1  2021-10-24       Verona         Lazio   4.0   1.0   H   \n",
       "37397       37397   E0  2021-10-24     West Ham     Tottenham   1.0   0.0   H   \n",
       "37398       37398  SP1  2021-10-25       Getafe         Celta   0.0   3.0   A   \n",
       "\n",
       "         HS    AS  ...  B365D  B365A   IWH   IWD   IWA   WHH  WHD   WHA  \\\n",
       "3357    NaN   NaN  ...  2.875  2.625  2.60  2.80  2.60  2.50  3.1  2.50   \n",
       "3358    NaN   NaN  ...  3.000  3.200  2.20  2.80  3.10  2.20  3.1  2.87   \n",
       "3359    NaN   NaN  ...  3.000  2.875  2.20  2.90  3.00  2.20  3.0  3.00   \n",
       "3360    NaN   NaN  ...  3.000  4.000  1.90  2.90  3.80  1.90  3.1  3.60   \n",
       "3361    NaN   NaN  ...  3.000  3.750  2.00  2.90  3.40  1.83  3.2  3.75   \n",
       "...     ...   ...  ...    ...    ...   ...   ...   ...   ...  ...   ...   \n",
       "37394  18.0  12.0  ...  4.200  8.000  1.47  4.40  7.00  1.44  4.2  7.50   \n",
       "37395   8.0  11.0  ...  3.500  2.900  2.50  3.40  2.85  2.45  3.4  2.80   \n",
       "37396  16.0   9.0  ...  3.600  2.200  3.05  3.55  2.25  3.10  3.5  2.25   \n",
       "37397  13.0   7.0  ...  3.500  3.000  2.40  3.45  2.95  2.38  3.4  2.90   \n",
       "37398  11.0  16.0  ...  3.000  3.100  2.65  2.95  3.00  2.55  3.0  3.00   \n",
       "\n",
       "       HomeTeamELO  AwayTeamELO  \n",
       "3357   1638.443726  1721.884644  \n",
       "3358   1697.769775  1706.673584  \n",
       "3359   1635.754883  1707.416260  \n",
       "3360   1625.260742  1637.619751  \n",
       "3361   1528.176514  1570.564941  \n",
       "...            ...          ...  \n",
       "37394  1839.052124  1629.306763  \n",
       "37395  1641.394043  1690.527466  \n",
       "37396  1591.301147  1709.902466  \n",
       "37397  1834.961426  1804.304077  \n",
       "37398  1604.867065  1698.811035  \n",
       "\n",
       "[33330 rows x 23 columns]"
      ]
     },
     "execution_count": 20,
     "metadata": {},
     "output_type": "execute_result"
    }
   ],
   "source": [
    "#football_df.FTR.replace('nan', np.nan, inplace=True)\n",
    "nan_football_df = football_df.dropna(subset = nan_mask)\n",
    "nan_football_df"
   ]
  },
  {
   "cell_type": "code",
   "execution_count": 22,
   "id": "c173f36d",
   "metadata": {},
   "outputs": [
    {
     "data": {
      "text/plain": [
       "4069"
      ]
     },
     "execution_count": 22,
     "metadata": {},
     "output_type": "execute_result"
    }
   ],
   "source": [
    "# resize shape\n",
    "football_df.shape[0] - nan_football_df.shape[0]"
   ]
  },
  {
   "cell_type": "markdown",
   "id": "42864535",
   "metadata": {},
   "source": [
    "**2.2 Feature Transformation** <br>\n",
    "* One hot encode Division, Home and Away Teams\n",
    "* Label encode Full Time Result (Win/Draw/Loss)\n",
    "* $\\phi(Date)$ $\\Rightarrow$ one column for *year*, second column for *day of year*\n",
    "* $\\phi(x)$ feature transformation $\\Rightarrow$ win/loss streak to date\n",
    "* Betting odds $\\Rightarrow$ average the home, away, and draw odds from the two odd sites"
   ]
  },
  {
   "cell_type": "code",
   "execution_count": 23,
   "id": "e8ccfdd0",
   "metadata": {},
   "outputs": [],
   "source": [
    "from sklearn.preprocessing import OneHotEncoder\n",
    "from sklearn.preprocessing import LabelEncoder"
   ]
  },
  {
   "cell_type": "code",
   "execution_count": 24,
   "id": "7a1537df",
   "metadata": {},
   "outputs": [],
   "source": [
    "feats = nan_mask"
   ]
  },
  {
   "cell_type": "code",
   "execution_count": 26,
   "id": "fe16f1b2",
   "metadata": {},
   "outputs": [
    {
     "data": {
      "text/html": [
       "<div>\n",
       "<style scoped>\n",
       "    .dataframe tbody tr th:only-of-type {\n",
       "        vertical-align: middle;\n",
       "    }\n",
       "\n",
       "    .dataframe tbody tr th {\n",
       "        vertical-align: top;\n",
       "    }\n",
       "\n",
       "    .dataframe thead th {\n",
       "        text-align: right;\n",
       "    }\n",
       "</style>\n",
       "<table border=\"1\" class=\"dataframe\">\n",
       "  <thead>\n",
       "    <tr style=\"text-align: right;\">\n",
       "      <th></th>\n",
       "      <th>Div</th>\n",
       "      <th>Date</th>\n",
       "      <th>HomeTeam</th>\n",
       "      <th>AwayTeam</th>\n",
       "      <th>FTR</th>\n",
       "      <th>B365H</th>\n",
       "      <th>B365D</th>\n",
       "      <th>B365A</th>\n",
       "      <th>IWH</th>\n",
       "      <th>IWD</th>\n",
       "      <th>IWA</th>\n",
       "      <th>WHH</th>\n",
       "      <th>WHD</th>\n",
       "      <th>WHA</th>\n",
       "    </tr>\n",
       "  </thead>\n",
       "  <tbody>\n",
       "    <tr>\n",
       "      <th>3357</th>\n",
       "      <td>F1</td>\n",
       "      <td>2002-08-03</td>\n",
       "      <td>Bastia</td>\n",
       "      <td>Lens</td>\n",
       "      <td>D</td>\n",
       "      <td>2.500</td>\n",
       "      <td>2.875</td>\n",
       "      <td>2.625</td>\n",
       "      <td>2.60</td>\n",
       "      <td>2.80</td>\n",
       "      <td>2.60</td>\n",
       "      <td>2.50</td>\n",
       "      <td>3.1</td>\n",
       "      <td>2.50</td>\n",
       "    </tr>\n",
       "    <tr>\n",
       "      <th>3358</th>\n",
       "      <td>F1</td>\n",
       "      <td>2002-08-03</td>\n",
       "      <td>Lille</td>\n",
       "      <td>Bordeaux</td>\n",
       "      <td>A</td>\n",
       "      <td>2.100</td>\n",
       "      <td>3.000</td>\n",
       "      <td>3.200</td>\n",
       "      <td>2.20</td>\n",
       "      <td>2.80</td>\n",
       "      <td>3.10</td>\n",
       "      <td>2.20</td>\n",
       "      <td>3.1</td>\n",
       "      <td>2.87</td>\n",
       "    </tr>\n",
       "    <tr>\n",
       "      <th>3359</th>\n",
       "      <td>F1</td>\n",
       "      <td>2002-08-03</td>\n",
       "      <td>Marseille</td>\n",
       "      <td>Nantes</td>\n",
       "      <td>A</td>\n",
       "      <td>2.250</td>\n",
       "      <td>3.000</td>\n",
       "      <td>2.875</td>\n",
       "      <td>2.20</td>\n",
       "      <td>2.90</td>\n",
       "      <td>3.00</td>\n",
       "      <td>2.20</td>\n",
       "      <td>3.0</td>\n",
       "      <td>3.00</td>\n",
       "    </tr>\n",
       "    <tr>\n",
       "      <th>3360</th>\n",
       "      <td>F1</td>\n",
       "      <td>2002-08-03</td>\n",
       "      <td>Montpellier</td>\n",
       "      <td>Rennes</td>\n",
       "      <td>H</td>\n",
       "      <td>1.833</td>\n",
       "      <td>3.000</td>\n",
       "      <td>4.000</td>\n",
       "      <td>1.90</td>\n",
       "      <td>2.90</td>\n",
       "      <td>3.80</td>\n",
       "      <td>1.90</td>\n",
       "      <td>3.1</td>\n",
       "      <td>3.60</td>\n",
       "    </tr>\n",
       "    <tr>\n",
       "      <th>3361</th>\n",
       "      <td>F1</td>\n",
       "      <td>2002-08-03</td>\n",
       "      <td>Nice</td>\n",
       "      <td>Le Havre</td>\n",
       "      <td>A</td>\n",
       "      <td>1.909</td>\n",
       "      <td>3.000</td>\n",
       "      <td>3.750</td>\n",
       "      <td>2.00</td>\n",
       "      <td>2.90</td>\n",
       "      <td>3.40</td>\n",
       "      <td>1.83</td>\n",
       "      <td>3.2</td>\n",
       "      <td>3.75</td>\n",
       "    </tr>\n",
       "    <tr>\n",
       "      <th>...</th>\n",
       "      <td>...</td>\n",
       "      <td>...</td>\n",
       "      <td>...</td>\n",
       "      <td>...</td>\n",
       "      <td>...</td>\n",
       "      <td>...</td>\n",
       "      <td>...</td>\n",
       "      <td>...</td>\n",
       "      <td>...</td>\n",
       "      <td>...</td>\n",
       "      <td>...</td>\n",
       "      <td>...</td>\n",
       "      <td>...</td>\n",
       "      <td>...</td>\n",
       "    </tr>\n",
       "    <tr>\n",
       "      <th>37394</th>\n",
       "      <td>SP1</td>\n",
       "      <td>2021-10-24</td>\n",
       "      <td>Sevilla</td>\n",
       "      <td>Levante</td>\n",
       "      <td>H</td>\n",
       "      <td>1.440</td>\n",
       "      <td>4.200</td>\n",
       "      <td>8.000</td>\n",
       "      <td>1.47</td>\n",
       "      <td>4.40</td>\n",
       "      <td>7.00</td>\n",
       "      <td>1.44</td>\n",
       "      <td>4.2</td>\n",
       "      <td>7.50</td>\n",
       "    </tr>\n",
       "    <tr>\n",
       "      <th>37395</th>\n",
       "      <td>D1</td>\n",
       "      <td>2021-10-24</td>\n",
       "      <td>Stuttgart</td>\n",
       "      <td>Union Berlin</td>\n",
       "      <td>D</td>\n",
       "      <td>2.370</td>\n",
       "      <td>3.500</td>\n",
       "      <td>2.900</td>\n",
       "      <td>2.50</td>\n",
       "      <td>3.40</td>\n",
       "      <td>2.85</td>\n",
       "      <td>2.45</td>\n",
       "      <td>3.4</td>\n",
       "      <td>2.80</td>\n",
       "    </tr>\n",
       "    <tr>\n",
       "      <th>37396</th>\n",
       "      <td>I1</td>\n",
       "      <td>2021-10-24</td>\n",
       "      <td>Verona</td>\n",
       "      <td>Lazio</td>\n",
       "      <td>H</td>\n",
       "      <td>3.100</td>\n",
       "      <td>3.600</td>\n",
       "      <td>2.200</td>\n",
       "      <td>3.05</td>\n",
       "      <td>3.55</td>\n",
       "      <td>2.25</td>\n",
       "      <td>3.10</td>\n",
       "      <td>3.5</td>\n",
       "      <td>2.25</td>\n",
       "    </tr>\n",
       "    <tr>\n",
       "      <th>37397</th>\n",
       "      <td>E0</td>\n",
       "      <td>2021-10-24</td>\n",
       "      <td>West Ham</td>\n",
       "      <td>Tottenham</td>\n",
       "      <td>H</td>\n",
       "      <td>2.300</td>\n",
       "      <td>3.500</td>\n",
       "      <td>3.000</td>\n",
       "      <td>2.40</td>\n",
       "      <td>3.45</td>\n",
       "      <td>2.95</td>\n",
       "      <td>2.38</td>\n",
       "      <td>3.4</td>\n",
       "      <td>2.90</td>\n",
       "    </tr>\n",
       "    <tr>\n",
       "      <th>37398</th>\n",
       "      <td>SP1</td>\n",
       "      <td>2021-10-25</td>\n",
       "      <td>Getafe</td>\n",
       "      <td>Celta</td>\n",
       "      <td>A</td>\n",
       "      <td>2.500</td>\n",
       "      <td>3.000</td>\n",
       "      <td>3.100</td>\n",
       "      <td>2.65</td>\n",
       "      <td>2.95</td>\n",
       "      <td>3.00</td>\n",
       "      <td>2.55</td>\n",
       "      <td>3.0</td>\n",
       "      <td>3.00</td>\n",
       "    </tr>\n",
       "  </tbody>\n",
       "</table>\n",
       "<p>33330 rows × 14 columns</p>\n",
       "</div>"
      ],
      "text/plain": [
       "       Div        Date     HomeTeam      AwayTeam FTR  B365H  B365D  B365A  \\\n",
       "3357    F1  2002-08-03       Bastia          Lens   D  2.500  2.875  2.625   \n",
       "3358    F1  2002-08-03        Lille      Bordeaux   A  2.100  3.000  3.200   \n",
       "3359    F1  2002-08-03    Marseille        Nantes   A  2.250  3.000  2.875   \n",
       "3360    F1  2002-08-03  Montpellier        Rennes   H  1.833  3.000  4.000   \n",
       "3361    F1  2002-08-03         Nice      Le Havre   A  1.909  3.000  3.750   \n",
       "...    ...         ...          ...           ...  ..    ...    ...    ...   \n",
       "37394  SP1  2021-10-24      Sevilla       Levante   H  1.440  4.200  8.000   \n",
       "37395   D1  2021-10-24    Stuttgart  Union Berlin   D  2.370  3.500  2.900   \n",
       "37396   I1  2021-10-24       Verona         Lazio   H  3.100  3.600  2.200   \n",
       "37397   E0  2021-10-24     West Ham     Tottenham   H  2.300  3.500  3.000   \n",
       "37398  SP1  2021-10-25       Getafe         Celta   A  2.500  3.000  3.100   \n",
       "\n",
       "        IWH   IWD   IWA   WHH  WHD   WHA  \n",
       "3357   2.60  2.80  2.60  2.50  3.1  2.50  \n",
       "3358   2.20  2.80  3.10  2.20  3.1  2.87  \n",
       "3359   2.20  2.90  3.00  2.20  3.0  3.00  \n",
       "3360   1.90  2.90  3.80  1.90  3.1  3.60  \n",
       "3361   2.00  2.90  3.40  1.83  3.2  3.75  \n",
       "...     ...   ...   ...   ...  ...   ...  \n",
       "37394  1.47  4.40  7.00  1.44  4.2  7.50  \n",
       "37395  2.50  3.40  2.85  2.45  3.4  2.80  \n",
       "37396  3.05  3.55  2.25  3.10  3.5  2.25  \n",
       "37397  2.40  3.45  2.95  2.38  3.4  2.90  \n",
       "37398  2.65  2.95  3.00  2.55  3.0  3.00  \n",
       "\n",
       "[33330 rows x 14 columns]"
      ]
     },
     "execution_count": 26,
     "metadata": {},
     "output_type": "execute_result"
    }
   ],
   "source": [
    "learning_df = nan_football_df.copy()[feats]\n",
    "learning_df"
   ]
  },
  {
   "cell_type": "markdown",
   "id": "15884417",
   "metadata": {},
   "source": [
    "**2.2.1 Division and Home/Away Team Encoding**"
   ]
  },
  {
   "cell_type": "code",
   "execution_count": null,
   "id": "b3e75070",
   "metadata": {},
   "outputs": [],
   "source": [
    "div_encoder = OneHotEncoder()\n",
    "home_encoder = OneHotEncoder()\n",
    "away_encoder = OneHotEncoder()"
   ]
  },
  {
   "cell_type": "code",
   "execution_count": null,
   "id": "84b8042b",
   "metadata": {},
   "outputs": [],
   "source": [
    "onehot_div = div_encoder.fit_transform(learning_df.Div.values.reshape(-1,1)).toarray().astype(int)\n",
    "onehot_div_df = pd.DataFrame(onehot_div, columns = [\"Div \"+str(int(i)) for i in range(onehot_div.shape[1])])\n",
    "\n",
    "onehot_home = home_encoder.fit_transform(learning_df.HomeTeam.values.reshape(-1,1)).toarray().astype(int)\n",
    "onehot_home_df = pd.DataFrame(onehot_home, columns = ['HomeTeam ' + str(int(i)) for i in np.arange(onehot_home.shape[1])])\n",
    "\n",
    "onehot_away = away_encoder.fit_transform(learning_df.AwayTeam.values.reshape(-1,1)).toarray().astype(int)\n",
    "onehot_away_df = pd.DataFrame(onehot_away, columns = ['AwayTeam ' + str(int(i)) for i in np.arange(onehot_away.shape[1])])"
   ]
  },
  {
   "cell_type": "code",
   "execution_count": null,
   "id": "f8444147",
   "metadata": {},
   "outputs": [],
   "source": [
    "learning_df = pd.concat([learning_df, onehot_div_df, onehot_home_df, onehot_away_df], axis = 1)\n",
    "learning_df.drop(columns = ['Div'], inplace = True)"
   ]
  },
  {
   "cell_type": "markdown",
   "id": "18c1cb41",
   "metadata": {},
   "source": [
    "**2.2.2 Date Transformation**"
   ]
  },
  {
   "cell_type": "code",
   "execution_count": null,
   "id": "865626e8",
   "metadata": {},
   "outputs": [],
   "source": [
    "learning_df['Year'] = pd.DatetimeIndex(learning_df.Date).year\n",
    "learning_df['DayofYear'] = pd.DatetimeIndex(learning_df.Date).dayofyear\n",
    "learning_df.drop(columns = ['Date'], inplace = True)"
   ]
  },
  {
   "cell_type": "markdown",
   "id": "1b0fefa3",
   "metadata": {},
   "source": [
    "**2.2.3 Full Time Result Encoding**"
   ]
  },
  {
   "cell_type": "code",
   "execution_count": null,
   "id": "df107de9",
   "metadata": {},
   "outputs": [],
   "source": [
    "target_encoder = LabelEncoder()\n",
    "learning_df['Result'] = target_encoder.fit_transform(learning_df.FTR) \n",
    "learning_df.drop(columns = ['FTR'], inplace = True)"
   ]
  },
  {
   "cell_type": "markdown",
   "id": "8ff554cf",
   "metadata": {},
   "source": [
    "**2.2.4 Win/Loss Streak Feature Creation** <br>\n",
    "Important note about this feature: the win/loss streak is the teams *home* and *away* win streak, *not* its ***consecutive*** win/loss streak."
   ]
  },
  {
   "cell_type": "code",
   "execution_count": null,
   "id": "41f1fcc4",
   "metadata": {},
   "outputs": [],
   "source": [
    "# https://stackoverflow.com/questions/52976336/compute-winning-streak-with-pandas\n",
    "# https://joshdevlin.com/blog/calculate-streaks-in-pandas/"
   ]
  },
  {
   "cell_type": "code",
   "execution_count": null,
   "id": "4658caa1",
   "metadata": {},
   "outputs": [],
   "source": [
    "def compute_winstreak(df):\n",
    "    \n",
    "    years = df.Year.unique()\n",
    "    df_lst = []    \n",
    "    for year in years:\n",
    "        \n",
    "        year_df = df[df.Year == year]\n",
    "        year_df['HomeWin'] = year_df.Result.replace([0, 1, 2], [0, 0, 1])\n",
    "        year_df['AwayWin'] = year_df.Result.replace([0, 1, 2], [1, 0, 0])\n",
    "        year_df['HomeWinStreak'] = None\n",
    "        year_df['AwayWinStreak'] = None\n",
    "        \n",
    "        hometeams = year_df.HomeTeam.unique()\n",
    "        awayteams = year_df.AwayTeam.unique()\n",
    "        \n",
    "        for team in hometeams:\n",
    "            team_df = year_df[(year_df.HomeTeam == team)]\n",
    "            team_df = team_df.sort_values(['Year', 'DayofYear'], ascending = (True, True))\n",
    "\n",
    "            team_grouper = (team_df.HomeWin != team_df.HomeWin.shift()).cumsum()\n",
    "            team_df['HomeWinStreak'] = team_df[['HomeWin']].groupby(team_grouper).cumsum()\n",
    "            team_df.loc[team_df.HomeWinStreak >0, 'HomeWinStreak'] -= 1\n",
    "            year_df.loc[team_df.index, 'HomeWinStreak'] = team_df.HomeWinStreak\n",
    "            \n",
    "        for team in awayteams:\n",
    "            team_df = year_df[(year_df.AwayTeam == team)]\n",
    "            team_df = team_df.sort_values(['Year', 'DayofYear'], ascending = (True, True))\n",
    "\n",
    "            team_grouper = (team_df.AwayWin != team_df.AwayWin.shift()).cumsum()\n",
    "            team_df['AwayWinStreak'] = team_df[['AwayWin']].groupby(team_grouper).cumsum()\n",
    "            team_df.loc[team_df.AwayWinStreak >0, 'AwayWinStreak'] -= 1\n",
    "            year_df.loc[team_df.index, 'AwayWinStreak'] = team_df.AwayWinStreak\n",
    "            \n",
    "        df_lst.append(year_df)\n",
    "        \n",
    "    return pd.concat(df_lst, axis = 0).drop(columns = ['HomeWin', 'AwayWin'])"
   ]
  },
  {
   "cell_type": "code",
   "execution_count": null,
   "id": "aca53647",
   "metadata": {},
   "outputs": [],
   "source": [
    "learning_df = compute_winstreak(learning_df)\n",
    "learning_df.drop(columns = ['HomeTeam', 'AwayTeam'], inplace = True)"
   ]
  },
  {
   "cell_type": "markdown",
   "id": "843342cb",
   "metadata": {},
   "source": [
    "**2.2.5 Last Match Result** <br>\n",
    "Indicate the result from the last match played between both teams"
   ]
  },
  {
   "cell_type": "code",
   "execution_count": null,
   "id": "b4c79cd7",
   "metadata": {},
   "outputs": [],
   "source": [
    "## TODO ##"
   ]
  },
  {
   "cell_type": "markdown",
   "id": "25dc6e93",
   "metadata": {},
   "source": [
    "**2.2.6 Team Wins to Date**"
   ]
  },
  {
   "cell_type": "code",
   "execution_count": null,
   "id": "7be9b147",
   "metadata": {},
   "outputs": [],
   "source": [
    "## TODO ##"
   ]
  },
  {
   "cell_type": "markdown",
   "id": "36c2496f",
   "metadata": {},
   "source": [
    "**2.2.7 Website Odds** <br>\n",
    "The `betting odds` recorded by various betting websites offer insight into sentiment surrounding the outcome of a particular game. "
   ]
  },
  {
   "cell_type": "code",
   "execution_count": null,
   "id": "1222c051",
   "metadata": {},
   "outputs": [],
   "source": [
    "## TODO ##"
   ]
  },
  {
   "cell_type": "markdown",
   "id": "0e4768c8",
   "metadata": {},
   "source": [
    "**2.2.8 Peek @ Learning DataFrame**"
   ]
  },
  {
   "cell_type": "code",
   "execution_count": null,
   "id": "cc58f8d6",
   "metadata": {},
   "outputs": [],
   "source": [
    "learning_df"
   ]
  },
  {
   "cell_type": "markdown",
   "id": "7b46d936",
   "metadata": {},
   "source": [
    "## 3. Preliminary Regression"
   ]
  },
  {
   "cell_type": "markdown",
   "id": "70e10788",
   "metadata": {},
   "source": [
    "* Establish a baseline Linear Regression model fit over the entire learning dataframe without special regard to *division* and *team*. \n",
    "* Train model over 18 seasons, and predict for the remaining 3 seasons (approximate 80-20 split)"
   ]
  },
  {
   "cell_type": "code",
   "execution_count": null,
   "id": "1a103d95",
   "metadata": {},
   "outputs": [],
   "source": [
    "from sklearn.metrics import accuracy_score"
   ]
  },
  {
   "cell_type": "markdown",
   "id": "c2ddd44e",
   "metadata": {},
   "source": [
    "**3.1 Train and Test Split**"
   ]
  },
  {
   "cell_type": "code",
   "execution_count": null,
   "id": "a82f4a6b",
   "metadata": {},
   "outputs": [],
   "source": [
    "split = 0.80\n",
    "no_seasons = 22\n",
    "\n",
    "print('No. seasons to train over: ' + str(round(split*no_seasons)))"
   ]
  },
  {
   "cell_type": "code",
   "execution_count": null,
   "id": "f22ecde1",
   "metadata": {},
   "outputs": [],
   "source": [
    "X, y = learning_df.loc[:, learning_df.columns != 'Result'], learning_df[['Result']]"
   ]
  },
  {
   "cell_type": "code",
   "execution_count": null,
   "id": "3dcbc199",
   "metadata": {},
   "outputs": [],
   "source": [
    "X"
   ]
  },
  {
   "cell_type": "code",
   "execution_count": null,
   "id": "0e361977",
   "metadata": {},
   "outputs": [],
   "source": [
    "xTr, xTe = X[X.Year <= 2018], X[X.Year > 2018]\n",
    "yTr, yTe = y.loc[xTr.index, :], y.loc[xTe.index, :]"
   ]
  },
  {
   "cell_type": "markdown",
   "id": "f94c0b77",
   "metadata": {},
   "source": [
    "**3.2 Normalization** <br>\n",
    "Following our various feature transformations and development, we arrived to a sparse dataframe with the exception of a few features(*Year, DayofYear*). It will be important to *normalize* these features as they are in gross magnitudes compared to the remaining features. During model training, having dominating features (in scale relative to others) can be dangerous as the weight updates may mistakengly favor these larger-scale features because it will have the largest influence on the target output. "
   ]
  },
  {
   "cell_type": "code",
   "execution_count": null,
   "id": "a72d269a",
   "metadata": {},
   "outputs": [],
   "source": [
    "from sklearn.preprocessing import MinMaxScaler\n",
    "minmax_scaler = MinMaxScaler()\n",
    "xTr.loc[:, ['Year', 'DayofYear']] = minmax_scaler.fit_transform(xTr.loc[:, ['Year', 'DayofYear']])\n",
    "xTe.loc[:, ['Year', 'DayofYear']] = minmax_scaler.transform(xTe.loc[:, ['Year', 'DayofYear']])"
   ]
  },
  {
   "cell_type": "code",
   "execution_count": null,
   "id": "11ee9c78",
   "metadata": {},
   "outputs": [],
   "source": [
    "xTr"
   ]
  },
  {
   "cell_type": "markdown",
   "id": "8b0abe45",
   "metadata": {},
   "source": [
    "**3.3 HomeWins Baseline Model**"
   ]
  },
  {
   "cell_type": "code",
   "execution_count": null,
   "id": "16d2cf5a",
   "metadata": {},
   "outputs": [],
   "source": [
    "baseline_preds = np.full((4952, 1), 2) #predicts home wins all the time\n",
    "accuracy_score(yTe.Result.values, baseline_preds.ravel())"
   ]
  },
  {
   "cell_type": "code",
   "execution_count": null,
   "id": "ada8db0c",
   "metadata": {},
   "outputs": [],
   "source": [
    "accuracy_score(yTr.Result.values, np.full((32447, 1), 2))"
   ]
  },
  {
   "cell_type": "markdown",
   "id": "dff87ca8",
   "metadata": {},
   "source": [
    "**3.4 Multinomial Logistic Regression**"
   ]
  },
  {
   "cell_type": "markdown",
   "id": "8ee3999d",
   "metadata": {},
   "source": [
    "**3.4.1 Full Model Fit**"
   ]
  },
  {
   "cell_type": "code",
   "execution_count": null,
   "id": "6c5f52f3",
   "metadata": {
    "scrolled": true
   },
   "outputs": [],
   "source": [
    "from sklearn.linear_model import LogisticRegression\n",
    "linear_model = LogisticRegression(max_iter = 10000).fit(xTr, yTr.values.ravel())"
   ]
  },
  {
   "cell_type": "code",
   "execution_count": null,
   "id": "fccc198b",
   "metadata": {},
   "outputs": [],
   "source": [
    "lr_preds = linear_model.predict(xTe)\n",
    "accuracy_score(yTe.Result.values, lr_preds)"
   ]
  },
  {
   "cell_type": "code",
   "execution_count": null,
   "id": "54140ce0",
   "metadata": {},
   "outputs": [],
   "source": [
    "accuracy_score(yTr.Result.values, linear_model.predict(xTr))"
   ]
  },
  {
   "cell_type": "markdown",
   "id": "4d6b3e49",
   "metadata": {},
   "source": [
    "**3.4.2 Team Fit Model**"
   ]
  },
  {
   "cell_type": "code",
   "execution_count": null,
   "id": "f80f80c1",
   "metadata": {},
   "outputs": [],
   "source": [
    "X_barcelona = X[X['HomeTeam 18'] == 1].loc[:, 'AwayTeam 0':]\n",
    "y_barcelona = y.loc[X_barcelona.index, :]"
   ]
  },
  {
   "cell_type": "code",
   "execution_count": null,
   "id": "72edbfea",
   "metadata": {},
   "outputs": [],
   "source": [
    "bxTr, bxTe = X_barcelona[X_barcelona.Year <= 2018], X_barcelona[X_barcelona.Year > 2018]\n",
    "byTr, byTe = y_barcelona.loc[bxTr.index, :], y_barcelona.loc[bxTe.index, :]"
   ]
  },
  {
   "cell_type": "code",
   "execution_count": null,
   "id": "a705a3b2",
   "metadata": {},
   "outputs": [],
   "source": [
    "bminmax_scaler = MinMaxScaler()\n",
    "bxTr.loc[:, ['Year', 'DayofYear']] = minmax_scaler.fit_transform(bxTr.loc[:, ['Year', 'DayofYear']])\n",
    "bxTe.loc[:, ['Year', 'DayofYear']] = minmax_scaler.transform(bxTe.loc[:, ['Year', 'DayofYear']])"
   ]
  },
  {
   "cell_type": "code",
   "execution_count": null,
   "id": "9d892779",
   "metadata": {},
   "outputs": [],
   "source": [
    "barcelona_model = LogisticRegression(max_iter = 10000).fit(bxTr, byTr.values.ravel())"
   ]
  },
  {
   "cell_type": "code",
   "execution_count": null,
   "id": "33b241b0",
   "metadata": {},
   "outputs": [],
   "source": [
    "barcelona_preds = barcelona_model.predict(bxTe)\n",
    "accuracy_score(byTe.Result.values, barcelona_preds)"
   ]
  },
  {
   "cell_type": "code",
   "execution_count": null,
   "id": "57b698d0",
   "metadata": {},
   "outputs": [],
   "source": [
    "fullModel_preds = linear_model.predict(xTe[xTe['HomeTeam 18'] == 1])\n",
    "accuracy_score(byTe.Result.values, fullModel_preds)"
   ]
  },
  {
   "cell_type": "markdown",
   "id": "e1f567ac",
   "metadata": {},
   "source": [
    "**3.5 Ridge Classifier**"
   ]
  },
  {
   "cell_type": "code",
   "execution_count": null,
   "id": "742123f2",
   "metadata": {},
   "outputs": [],
   "source": [
    "from sklearn.linear_model import RidgeClassifier\n",
    "ridge_model = RidgeClassifier().fit(xTr, yTr.values.ravel())"
   ]
  },
  {
   "cell_type": "code",
   "execution_count": null,
   "id": "94e036ab",
   "metadata": {
    "scrolled": true
   },
   "outputs": [],
   "source": [
    "ridge_preds = ridge_model.predict(xTe)\n",
    "accuracy_score(yTe.Result.values, ridge_preds)"
   ]
  },
  {
   "cell_type": "code",
   "execution_count": null,
   "id": "8cd96643",
   "metadata": {
    "scrolled": true
   },
   "outputs": [],
   "source": [
    "yTe.shape"
   ]
  }
 ],
 "metadata": {
  "kernelspec": {
   "display_name": "Python 3 (ipykernel)",
   "language": "python",
   "name": "python3"
  },
  "language_info": {
   "codemirror_mode": {
    "name": "ipython",
    "version": 3
   },
   "file_extension": ".py",
   "mimetype": "text/x-python",
   "name": "python",
   "nbconvert_exporter": "python",
   "pygments_lexer": "ipython3",
   "version": "3.9.7"
  }
 },
 "nbformat": 4,
 "nbformat_minor": 5
}
