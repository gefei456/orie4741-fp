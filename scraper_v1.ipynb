{
 "cells": [
  {
   "cell_type": "code",
   "metadata": {
    "ExecuteTime": {
     "end_time": "2025-01-29T05:42:10.327393Z",
     "start_time": "2025-01-29T05:42:10.308237Z"
    }
   },
   "source": [
    "import numpy as np\n",
    "import requests\n",
    "from bs4 import BeautifulSoup\n",
    "import pandas as pd"
   ],
   "outputs": [],
   "execution_count": 5
  },
  {
   "cell_type": "code",
   "metadata": {
    "ExecuteTime": {
     "end_time": "2025-01-29T05:44:48.084470Z",
     "start_time": "2025-01-29T05:42:10.329459Z"
    }
   },
   "source": [
    "base_url = \"https://www.football-data.co.uk/\"\n",
    "\n",
    "leagues = {\n",
    "    \"england\": \"Premier League\",\n",
    "    \"germany\": \"Bundesliga 1\",\n",
    "    \"italy\": \"Serie A\",\n",
    "    \"spain\": \"La Liga Primera Division\",\n",
    "    \"france\": \"Le Championnat\"\n",
    "}\n",
    "\n",
    "aliases = {\n",
    "    \"F1\": \"france_division_1\",\n",
    "    \"E0\": \"england_division_1\",\n",
    "    \"D1\": \"germany_division_1\",\n",
    "    \"I1\": \"italy_division_1\",\n",
    "    \"SP1\": \"spain_division_1\"\n",
    "}\n",
    "\n",
    "file_names = []\n",
    "\n",
    "for country, league_name in leagues.items():\n",
    "    \n",
    "\n",
    "    league_html = requests.get(base_url + country + \"m.php\")\n",
    "    soup = BeautifulSoup(league_html.text, 'lxml')\n",
    "    league_data_links = soup.find_all(lambda x : league_name in x.contents)\n",
    "\n",
    "    links = [tag['href'] for tag in league_data_links][:22]\n",
    "    \n",
    "    for league_url in links:\n",
    "        \n",
    "        # generate file name\n",
    "        league_info = league_url.split(\".csv\")[0].split(\"/\")[1:]\n",
    "        year_str = league_info[0]\n",
    "        year = year_str[:2] + \"-\" + year_str[2:]\n",
    "        league_name = aliases[league_info[1]]\n",
    "        file_name = league_name + \"_\" + year + \".csv\"\n",
    "        file_names.append(file_name)\n",
    "        \n",
    "        # call api and write data to file\n",
    "        league_data = requests.get(base_url + league_url)\n",
    "        with open(\"data/\" + file_name, mode='wb') as f:\n",
    "            f.write(league_data.content)\n"
   ],
   "outputs": [],
   "execution_count": 6
  },
  {
   "cell_type": "code",
   "metadata": {
    "scrolled": true,
    "ExecuteTime": {
     "end_time": "2025-01-29T05:44:50.642326Z",
     "start_time": "2025-01-29T05:44:48.085478Z"
    }
   },
   "source": [
    "for country in leagues.keys():\n",
    "    country_dfs = [] # league-specific dataframe\n",
    "    for file in file_names:\n",
    "        if country in file:\n",
    "            # df = pd.read_csv(\"data/\" + file, on_bad_lines='skip', encoding='latin1')\n",
    "            df = pd.read_csv(\"data/\" + file, on_bad_lines='skip', encoding='utf-8')\n",
    "            df[\"Date\"] = pd.to_datetime(df[\"Date\"], format=\"mixed\", dayfirst=True)\n",
    "            country_dfs.append(df)\n",
    "            \n",
    "    country_df = pd.concat(country_dfs)\n",
    "    country_df = country_df.sort_values(by=[\"Date\", \"HomeTeam\"], ignore_index=True)\n",
    "    file_name = country + \"_data.csv\"\n",
    "    country_df.to_csv(\"data/\" + file_name)"
   ],
   "outputs": [],
   "execution_count": 7
  },
  {
   "cell_type": "code",
   "metadata": {
    "ExecuteTime": {
     "end_time": "2025-01-29T05:44:53.253216Z",
     "start_time": "2025-01-29T05:44:50.643329Z"
    }
   },
   "source": [
    "total_dfs = [] # all leagues in one dataframe\n",
    "for file in file_names:\n",
    "    # df = pd.read_csv(\"data/\" + file, on_bad_lines='skip', encoding='latin1')\n",
    "    df = pd.read_csv(\"data/\" + file, on_bad_lines='skip', encoding='utf-8')\n",
    "    df[\"Date\"] = pd.to_datetime(df[\"Date\"], format='mixed', dayfirst=True)\n",
    "    total_dfs.append(df)\n",
    "\n",
    "total_df = pd.concat(total_dfs)\n",
    "total_df = total_df.sort_values(by=[\"Date\", \"HomeTeam\"], ignore_index=True)\n",
    "file_name = \"all_data.csv\"\n",
    "total_df.to_csv(\"data/\" + file_name)"
   ],
   "outputs": [],
   "execution_count": 8
  },
  {
   "cell_type": "code",
   "metadata": {
    "ExecuteTime": {
     "end_time": "2025-01-29T05:44:53.258225Z",
     "start_time": "2025-01-29T05:44:53.254224Z"
    }
   },
   "source": [],
   "outputs": [],
   "execution_count": 8
  }
 ],
 "metadata": {
  "kernelspec": {
   "display_name": "Python 3 (ipykernel)",
   "language": "python",
   "name": "python3"
  },
  "language_info": {
   "codemirror_mode": {
    "name": "ipython",
    "version": 3
   },
   "file_extension": ".py",
   "mimetype": "text/x-python",
   "name": "python",
   "nbconvert_exporter": "python",
   "pygments_lexer": "ipython3",
   "version": "3.8.12"
  }
 },
 "nbformat": 4,
 "nbformat_minor": 4
}
