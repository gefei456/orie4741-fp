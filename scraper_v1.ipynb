{
 "cells": [
  {
   "cell_type": "code",
   "execution_count": 1,
   "metadata": {
    "ExecuteTime": {
     "end_time": "2024-04-29T01:53:32.373003100Z",
     "start_time": "2024-04-29T01:53:32.216899900Z"
    }
   },
   "outputs": [],
   "source": [
    "import numpy as np\n",
    "import requests\n",
    "from bs4 import BeautifulSoup\n",
    "import pandas as pd"
   ]
  },
  {
   "cell_type": "code",
   "execution_count": 2,
   "metadata": {
    "ExecuteTime": {
     "end_time": "2024-04-29T01:55:45.348279300Z",
     "start_time": "2024-04-29T01:53:36.956526900Z"
    }
   },
   "outputs": [],
   "source": [
    "base_url = \"https://www.football-data.co.uk/\"\n",
    "\n",
    "leagues = {\n",
    "    \"england\": \"Premier League\",\n",
    "    \"germany\": \"Bundesliga 1\",\n",
    "    \"italy\": \"Serie A\",\n",
    "    \"spain\": \"La Liga Primera Division\",\n",
    "    \"france\": \"Le Championnat\"\n",
    "}\n",
    "\n",
    "aliases = {\n",
    "    \"F1\": \"france_division_1\",\n",
    "    \"E0\": \"england_division_1\",\n",
    "    \"D1\": \"germany_division_1\",\n",
    "    \"I1\": \"italy_division_1\",\n",
    "    \"SP1\": \"spain_division_1\"\n",
    "}\n",
    "\n",
    "file_names = []\n",
    "\n",
    "for country, league_name in leagues.items():\n",
    "    \n",
    "\n",
    "    league_html = requests.get(base_url + country + \"m.php\")\n",
    "    soup = BeautifulSoup(league_html.text, 'lxml')\n",
    "    league_data_links = soup.find_all(lambda x : league_name in x.contents)\n",
    "\n",
    "    links = [tag['href'] for tag in league_data_links][:22]\n",
    "    \n",
    "    for league_url in links:\n",
    "        \n",
    "        # generate file name\n",
    "        league_info = league_url.split(\".csv\")[0].split(\"/\")[1:]\n",
    "        year_str = league_info[0]\n",
    "        year = year_str[:2] + \"-\" + year_str[2:]\n",
    "        league_name = aliases[league_info[1]]\n",
    "        file_name = league_name + \"_\" + year + \".csv\"\n",
    "        file_names.append(file_name)\n",
    "        \n",
    "        # call api and write data to file\n",
    "        league_data = requests.get(base_url + league_url)\n",
    "        with open(\"data/\" + file_name, mode='wb') as f:\n",
    "            f.write(league_data.content)\n"
   ]
  },
  {
   "cell_type": "code",
   "execution_count": 3,
   "metadata": {
    "scrolled": true,
    "ExecuteTime": {
     "end_time": "2024-04-29T01:55:45.615837900Z",
     "start_time": "2024-04-29T01:55:45.352274400Z"
    }
   },
   "outputs": [
    {
     "ename": "TypeError",
     "evalue": "read_csv() got an unexpected keyword argument 'error_bad_lines'",
     "output_type": "error",
     "traceback": [
      "\u001B[1;31m---------------------------------------------------------------------------\u001B[0m",
      "\u001B[1;31mTypeError\u001B[0m                                 Traceback (most recent call last)",
      "\u001B[1;32m~\\AppData\\Local\\Temp\\ipykernel_10744\\3586178881.py\u001B[0m in \u001B[0;36m<module>\u001B[1;34m\u001B[0m\n\u001B[0;32m      3\u001B[0m     \u001B[1;32mfor\u001B[0m \u001B[0mfile\u001B[0m \u001B[1;32min\u001B[0m \u001B[0mfile_names\u001B[0m\u001B[1;33m:\u001B[0m\u001B[1;33m\u001B[0m\u001B[1;33m\u001B[0m\u001B[0m\n\u001B[0;32m      4\u001B[0m         \u001B[1;32mif\u001B[0m \u001B[0mcountry\u001B[0m \u001B[1;32min\u001B[0m \u001B[0mfile\u001B[0m\u001B[1;33m:\u001B[0m\u001B[1;33m\u001B[0m\u001B[1;33m\u001B[0m\u001B[0m\n\u001B[1;32m----> 5\u001B[1;33m             \u001B[0mdf\u001B[0m \u001B[1;33m=\u001B[0m \u001B[0mpd\u001B[0m\u001B[1;33m.\u001B[0m\u001B[0mread_csv\u001B[0m\u001B[1;33m(\u001B[0m\u001B[1;34m\"data/\"\u001B[0m \u001B[1;33m+\u001B[0m \u001B[0mfile\u001B[0m\u001B[1;33m,\u001B[0m \u001B[0merror_bad_lines\u001B[0m\u001B[1;33m=\u001B[0m\u001B[1;32mFalse\u001B[0m\u001B[1;33m,\u001B[0m \u001B[0mwarn_bad_lines\u001B[0m\u001B[1;33m=\u001B[0m\u001B[1;32mFalse\u001B[0m\u001B[1;33m,\u001B[0m \u001B[0mencoding\u001B[0m\u001B[1;33m=\u001B[0m\u001B[1;34m'latin1'\u001B[0m\u001B[1;33m)\u001B[0m\u001B[1;33m\u001B[0m\u001B[1;33m\u001B[0m\u001B[0m\n\u001B[0m\u001B[0;32m      6\u001B[0m             \u001B[0mdf\u001B[0m\u001B[1;33m[\u001B[0m\u001B[1;34m\"Date\"\u001B[0m\u001B[1;33m]\u001B[0m \u001B[1;33m=\u001B[0m \u001B[0mpd\u001B[0m\u001B[1;33m.\u001B[0m\u001B[0mto_datetime\u001B[0m\u001B[1;33m(\u001B[0m\u001B[0mdf\u001B[0m\u001B[1;33m[\u001B[0m\u001B[1;34m\"Date\"\u001B[0m\u001B[1;33m]\u001B[0m\u001B[1;33m,\u001B[0m \u001B[0mdayfirst\u001B[0m\u001B[1;33m=\u001B[0m\u001B[1;32mTrue\u001B[0m\u001B[1;33m)\u001B[0m\u001B[1;33m\u001B[0m\u001B[1;33m\u001B[0m\u001B[0m\n\u001B[0;32m      7\u001B[0m             \u001B[0mcountry_dfs\u001B[0m\u001B[1;33m.\u001B[0m\u001B[0mappend\u001B[0m\u001B[1;33m(\u001B[0m\u001B[0mdf\u001B[0m\u001B[1;33m)\u001B[0m\u001B[1;33m\u001B[0m\u001B[1;33m\u001B[0m\u001B[0m\n",
      "\u001B[1;31mTypeError\u001B[0m: read_csv() got an unexpected keyword argument 'error_bad_lines'"
     ]
    }
   ],
   "source": [
    "for country in leagues.keys():\n",
    "    country_dfs = [] # league-specific dataframe\n",
    "    for file in file_names:\n",
    "        if country in file:\n",
    "            df = pd.read_csv(\"data/\" + file, error_bad_lines=False, warn_bad_lines=False, encoding='latin1')\n",
    "            df[\"Date\"] = pd.to_datetime(df[\"Date\"], dayfirst=True)\n",
    "            country_dfs.append(df)\n",
    "            \n",
    "    country_df = pd.concat(country_dfs)\n",
    "    country_df = country_df.sort_values(by=[\"Date\", \"HomeTeam\"], ignore_index=True)\n",
    "    file_name = country + \"_data.csv\"\n",
    "    country_df.to_csv(\"data/\" + file_name)"
   ]
  },
  {
   "cell_type": "code",
   "execution_count": null,
   "metadata": {
    "ExecuteTime": {
     "start_time": "2024-04-29T01:55:45.616837500Z"
    }
   },
   "outputs": [],
   "source": [
    "total_dfs = [] # all leagues in one dataframe\n",
    "for file in file_names:\n",
    "    df = pd.read_csv(\"data/\" + file, error_bad_lines=False, warn_bad_lines=False, encoding='latin1')\n",
    "    df[\"Date\"] = pd.to_datetime(df[\"Date\"], dayfirst=True)\n",
    "    total_dfs.append(df)\n",
    "\n",
    "total_df = pd.concat(total_dfs)\n",
    "total_df = total_df.sort_values(by=[\"Date\", \"HomeTeam\"], ignore_index=True)\n",
    "file_name = \"all_data.csv\"\n",
    "total_df.to_csv(\"data/\" + file_name)"
   ]
  },
  {
   "cell_type": "code",
   "execution_count": null,
   "metadata": {},
   "outputs": [],
   "source": []
  }
 ],
 "metadata": {
  "kernelspec": {
   "display_name": "Python 3 (ipykernel)",
   "language": "python",
   "name": "python3"
  },
  "language_info": {
   "codemirror_mode": {
    "name": "ipython",
    "version": 3
   },
   "file_extension": ".py",
   "mimetype": "text/x-python",
   "name": "python",
   "nbconvert_exporter": "python",
   "pygments_lexer": "ipython3",
   "version": "3.8.12"
  }
 },
 "nbformat": 4,
 "nbformat_minor": 4
}
