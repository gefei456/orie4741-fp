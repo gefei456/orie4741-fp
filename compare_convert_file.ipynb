{
 "cells": [
  {
   "cell_type": "code",
   "id": "initial_id",
   "metadata": {
    "collapsed": true,
    "ExecuteTime": {
     "end_time": "2025-02-12T07:03:29.927055Z",
     "start_time": "2025-02-12T07:03:29.907458Z"
    }
   },
   "source": [
    "import numpy as np\n",
    "import pickle\n",
    "import joblib\n"
   ],
   "outputs": [],
   "execution_count": 54
  },
  {
   "metadata": {
    "ExecuteTime": {
     "end_time": "2025-02-12T07:03:29.973438Z",
     "start_time": "2025-02-12T07:03:29.928075Z"
    }
   },
   "cell_type": "code",
   "source": [
    "with open('./div_encoder.pkl', 'rb') as f:\n",
    "    data1 = joblib.load(f)\n",
    "    print(len(data1.categories_[0]))\n",
    "    print(data1.categories_)"
   ],
   "id": "b7d703fcdfeb4c91",
   "outputs": [
    {
     "name": "stdout",
     "output_type": "stream",
     "text": [
      "5\n",
      "[array(['D1', 'E0', 'F1', 'I1', 'SP1'], dtype=object)]\n"
     ]
    }
   ],
   "execution_count": 55
  },
  {
   "metadata": {
    "ExecuteTime": {
     "end_time": "2025-02-12T07:03:30.004690Z",
     "start_time": "2025-02-12T07:03:29.974446Z"
    }
   },
   "cell_type": "code",
   "source": [
    "with open('./home_encoder.pkl', 'rb') as f:\n",
    "    data1 = joblib.load(f)\n",
    "    print(len(data1.categories_[0]))\n",
    "    # print(data1.categories_)"
   ],
   "id": "25639ac02622a29",
   "outputs": [
    {
     "name": "stdout",
     "output_type": "stream",
     "text": [
      "207\n"
     ]
    }
   ],
   "execution_count": 56
  },
  {
   "metadata": {
    "ExecuteTime": {
     "end_time": "2025-02-12T07:03:30.027553Z",
     "start_time": "2025-02-12T07:03:30.005700Z"
    }
   },
   "cell_type": "code",
   "source": [
    "with open('./away_encoder.pkl', 'rb') as f:\n",
    "    data1 = joblib.load(f)\n",
    "    print(len(data1.categories_[0]))\n",
    "    # print(data1.categories_)"
   ],
   "id": "88b7582e4d6b39c7",
   "outputs": [
    {
     "name": "stdout",
     "output_type": "stream",
     "text": [
      "207\n"
     ]
    }
   ],
   "execution_count": 57
  },
  {
   "metadata": {
    "ExecuteTime": {
     "end_time": "2025-02-12T07:03:30.071203Z",
     "start_time": "2025-02-12T07:03:30.028560Z"
    }
   },
   "cell_type": "code",
   "source": [
    "with open('./target_encoder.pkl', 'rb') as f:\n",
    "    data1 = joblib.load(f)\n",
    "    # print(dir(data1))\n",
    "    print(len(data1.classes_))\n",
    "    print(data1.classes_)"
   ],
   "id": "fbe53363dfe60297",
   "outputs": [
    {
     "name": "stdout",
     "output_type": "stream",
     "text": [
      "3\n",
      "[0 1 2]\n"
     ]
    }
   ],
   "execution_count": 58
  },
  {
   "metadata": {
    "ExecuteTime": {
     "end_time": "2025-02-12T07:03:30.112321Z",
     "start_time": "2025-02-12T07:03:30.073207Z"
    }
   },
   "cell_type": "code",
   "source": [
    "\n",
    "with open('./minmax_scaler_2025_02_04_23_35_59.pkl', 'rb') as f:\n",
    "    data1 = joblib.load(f)\n",
    "    # 输出关键属性\n",
    "    print(\"data_min_ (原始数据每列的最小值):\", data1.data_min_)\n",
    "    print(\"data_max_ (原始数据每列的最大值):\", data1.data_max_)\n",
    "    print(\"data_range_ (原始数据每列的范围):\", data1.data_range_)\n",
    "    print(\"feature_range (目标缩放范围):\", data1.feature_range)\n",
    "    print(\"scale_ (缩放比例因子):\", data1.scale_)\n",
    "    print(\"min_ (缩放后的最小值偏移量):\", data1.min_)\n",
    "    "
   ],
   "id": "71abf30431ce3a0d",
   "outputs": [
    {
     "name": "stdout",
     "output_type": "stream",
     "text": [
      "data_min_ (原始数据每列的最小值): [2019.]\n",
      "data_max_ (原始数据每列的最大值): [2023.]\n",
      "data_range_ (原始数据每列的范围): [4.]\n",
      "feature_range (目标缩放范围): (0, 1)\n",
      "scale_ (缩放比例因子): [0.25]\n",
      "min_ (缩放后的最小值偏移量): [-504.75]\n"
     ]
    }
   ],
   "execution_count": 59
  },
  {
   "metadata": {
    "ExecuteTime": {
     "end_time": "2025-02-12T07:03:30.165657Z",
     "start_time": "2025-02-12T07:03:30.113320Z"
    }
   },
   "cell_type": "code",
   "source": [
    "with open('./minmax_scaler_2025_02_12_08_31_02.pkl', 'rb') as f:\n",
    "    data1 = joblib.load(f)\n",
    "    # 输出关键属性\n",
    "    print(\"data_min_ (原始数据每列的最小值):\", data1.data_min_)\n",
    "    print(\"data_max_ (原始数据每列的最大值):\", data1.data_max_)\n",
    "    print(\"data_range_ (原始数据每列的范围):\", data1.data_range_)\n",
    "    print(\"feature_range (目标缩放范围):\", data1.feature_range)\n",
    "    print(\"scale_ (缩放比例因子):\", data1.scale_)\n",
    "    print(\"min_ (缩放后的最小值偏移量):\", data1.min_)"
   ],
   "id": "3901e448f236c928",
   "outputs": [
    {
     "name": "stdout",
     "output_type": "stream",
     "text": [
      "data_min_ (原始数据每列的最小值): [2019.]\n",
      "data_max_ (原始数据每列的最大值): [2024.]\n",
      "data_range_ (原始数据每列的范围): [5.]\n",
      "feature_range (目标缩放范围): (0, 1)\n",
      "scale_ (缩放比例因子): [0.2]\n",
      "min_ (缩放后的最小值偏移量): [-403.8]\n"
     ]
    }
   ],
   "execution_count": 60
  },
  {
   "metadata": {
    "ExecuteTime": {
     "end_time": "2025-02-12T07:03:30.195593Z",
     "start_time": "2025-02-12T07:03:30.166176Z"
    }
   },
   "cell_type": "code",
   "source": [
    "with open('./std_scaler_2025_02_04_23_35_59.pkl', 'rb') as f:\n",
    "    data1 = joblib.load(f)\n",
    "    # 输出关键属性\n",
    "    print(\"feature_names_in (类别):\", data1.feature_names_in_)\n",
    "    print(\"mean (每列均值):\", data1.mean_)\n",
    "    print(\"n_samples_seen_ (样本个数):\", data1.n_samples_seen_)\n",
    "    print(\"scale_ (缩放比例因子):\", data1.scale_)\n",
    "    print(\"var_ (方差):\", data1.var_)"
   ],
   "id": "b7cc239a712a4d89",
   "outputs": [
    {
     "name": "stdout",
     "output_type": "stream",
     "text": [
      "feature_names_in (类别): ['HomeTeamELO' 'AwayTeamELO' 'B365H' 'B365D' 'B365A' 'AHh' 'B365AHH'\n",
      " 'B365AHA']\n",
      "mean (每列均值): [ 1.69332173e+03  1.69304833e+03  2.77837511e+00  4.05532677e+00\n",
      "  4.28069047e+00 -2.76326097e-01  1.95417413e+00  1.95318599e+00]\n",
      "n_samples_seen_ (样本个数): 8936\n",
      "scale_ (缩放比例因子): [1.21012604e+02 1.21093525e+02 1.81841730e+00 1.19968082e+00\n",
      " 3.29977857e+00 8.28252743e-01 9.42819688e-02 9.24250494e-02]\n",
      "var_ (方差): [1.46440504e+04 1.46636418e+04 3.30664147e+00 1.43923407e+00\n",
      " 1.08885386e+01 6.86002606e-01 8.88908964e-03 8.54238976e-03]\n"
     ]
    }
   ],
   "execution_count": 61
  },
  {
   "metadata": {
    "ExecuteTime": {
     "end_time": "2025-02-12T07:03:56.371315Z",
     "start_time": "2025-02-12T07:03:56.287182Z"
    }
   },
   "cell_type": "code",
   "source": [
    "with open('./std_scaler_2025_02_12_08_31_02.pkl', 'rb') as f:\n",
    "    data1 = joblib.load(f)\n",
    "    # 输出关键属性\n",
    "    print(\"feature_names_in (类别):\", data1.feature_names_in_)\n",
    "    print(\"mean (每列均值):\", data1.mean_)\n",
    "    print(\"n_samples_seen_ (样本个数):\", data1.n_samples_seen_)\n",
    "    print(\"scale_ (缩放比例因子):\", data1.scale_)\n",
    "    print(\"var_ (方差):\", data1.var_)"
   ],
   "id": "e7dca8e7635aab49",
   "outputs": [
    {
     "name": "stdout",
     "output_type": "stream",
     "text": [
      "feature_names_in (类别): ['HomeTeamELO' 'AwayTeamELO' 'B365H' 'B365D' 'B365A' 'AHh' 'B365AHH'\n",
      " 'B365AHA']\n",
      "mean (每列均值): [ 1.69499707e+03  1.69487844e+03  2.77124057e+00  4.05468558e+00\n",
      "  4.27809035e+00 -2.78850991e-01  1.95365127e+00  1.95243385e+00]\n",
      "n_samples_seen_ (样本个数): 9939\n",
      "scale_ (缩放比例因子): [1.20649808e+02 1.20829251e+02 1.79688532e+00 1.19708907e+00\n",
      " 3.27894666e+00 8.28540264e-01 9.73836193e-02 9.27427081e-02]\n",
      "var_ (方差): [1.45563761e+04 1.45997079e+04 3.22879686e+00 1.43302224e+00\n",
      " 1.07514912e+01 6.86478970e-01 9.48356930e-03 8.60120991e-03]\n"
     ]
    }
   ],
   "execution_count": 62
  }
 ],
 "metadata": {
  "kernelspec": {
   "display_name": "Python 3",
   "language": "python",
   "name": "python3"
  },
  "language_info": {
   "codemirror_mode": {
    "name": "ipython",
    "version": 2
   },
   "file_extension": ".py",
   "mimetype": "text/x-python",
   "name": "python",
   "nbconvert_exporter": "python",
   "pygments_lexer": "ipython2",
   "version": "2.7.6"
  }
 },
 "nbformat": 4,
 "nbformat_minor": 5
}
